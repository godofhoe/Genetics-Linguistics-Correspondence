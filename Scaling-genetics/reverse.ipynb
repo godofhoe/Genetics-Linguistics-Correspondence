{
 "cells": [
  {
   "cell_type": "code",
   "execution_count": 1,
   "metadata": {},
   "outputs": [],
   "source": [
    "import networkx as nx\n",
    "import time\n",
    "import random \n",
    "import bisect \n",
    "import math \n",
    "import numpy as np\n",
    "import pandas as pd\n",
    "import matplotlib.pyplot as plt\n",
    "from Module.count import *\n",
    "from Module.count_col import *\n",
    "from Module.Curve_Fitting_MLE import *\n",
    "from scipy.optimize import curve_fit\n",
    "%matplotlib inline\n",
    "plt.style.use('classic')"
   ]
  },
  {
   "cell_type": "code",
   "execution_count": 2,
   "metadata": {},
   "outputs": [
    {
     "name": "stdout",
     "output_type": "stream",
     "text": [
      "read file successfully!\n"
     ]
    }
   ],
   "source": [
    "#encode = \"UTF-16\" #(1)\n",
    "encode = \"UTF-8\"   #(2)\n",
    "##if anything gets into trouble, use (1) instead of (2), and vise versa.\n",
    "name = 'chicken'\n",
    "filename = name + '.txt' #change filename if you want to get statictical information of another\n",
    "##text file.\n",
    "corpora, longest = read_file(filename, encode)"
   ]
  },
  {
   "cell_type": "code",
   "execution_count": 21,
   "metadata": {},
   "outputs": [],
   "source": [
    "def reverse(corpora):\n",
    "    '''read a corpora and retrive its functionality adjacency matrix\n",
    "    \n",
    "    input:\n",
    "    corpora: list, output of read_file\n",
    "    \n",
    "    output:\n",
    "    add a frame \"#collocations\" (numbers of collocations of syls) in pdframe2\n",
    "    add a frame \"#links\" (numbers of links of words) in pdframe1\n",
    "        \n",
    "    '''\n",
    "    \n",
    "    fun_conn = [[0 for i in range(len(corpora))] for i in range(len(corpora))]\n",
    "    syllgram = [corpora[i].split('-') for i in range(len(corpora))]\n",
    "    \n",
    "    for i in range(len(corpora)):\n",
    "        syl_source = syllgram[i]\n",
    "        for j in range(i, len(corpora)):\n",
    "            syl_target = syllgram[j]\n",
    "            for s in syl_source:\n",
    "                if s in syl_target:\n",
    "                    fun_conn[i][j] += 1\n",
    "                    fun_conn[j][i] += 1\n",
    "        fun_conn[i][i] = 0\n",
    "\n",
    "    return fun_conn"
   ]
  },
  {
   "cell_type": "code",
   "execution_count": 29,
   "metadata": {},
   "outputs": [],
   "source": [
    "def reverse_head(corpora):\n",
    "    '''read a corpora and retrive its functionality adjacency matrix\n",
    "    \n",
    "    input:\n",
    "    corpora: list, output of read_file\n",
    "    \n",
    "    output:\n",
    "    add a frame \"#collocations\" (numbers of collocations of syls) in pdframe2\n",
    "    add a frame \"#links\" (numbers of links of words) in pdframe1\n",
    "        \n",
    "    '''\n",
    "    \n",
    "    fun_conn = [[0 for i in range(len(corpora))] for i in range(len(corpora))]\n",
    "    syllgram = [corpora[i].split('-') for i in range(len(corpora))]\n",
    "    \n",
    "    for i in range(len(corpora)):\n",
    "        syl_source = syllgram[i][0]\n",
    "        for j in range(i, len(corpora)):\n",
    "            syl_target = syllgram[j][0]\n",
    "            if syl_source == syl_target:\n",
    "                fun_conn[i][j] += 1\n",
    "                fun_conn[j][i] += 1\n",
    "        fun_conn[i][i] = 0\n",
    "\n",
    "    return fun_conn"
   ]
  },
  {
   "cell_type": "code",
   "execution_count": 22,
   "metadata": {},
   "outputs": [],
   "source": [
    "def array2txt(array, filename):\n",
    "    with open(filename, 'w') as txt:\n",
    "        for i in array:\n",
    "            txt.write(str(i)+'\\n')"
   ]
  },
  {
   "cell_type": "code",
   "execution_count": 41,
   "metadata": {},
   "outputs": [
    {
     "name": "stdout",
     "output_type": "stream",
     "text": [
      "8.295474529266357\n"
     ]
    }
   ],
   "source": [
    "start = time.time()\n",
    "fun_conn = reverse(corpora)\n",
    "end = time.time()\n",
    "print(end - start)"
   ]
  },
  {
   "cell_type": "code",
   "execution_count": 42,
   "metadata": {},
   "outputs": [
    {
     "name": "stdout",
     "output_type": "stream",
     "text": [
      "2.4231388568878174\n"
     ]
    }
   ],
   "source": [
    "start = time.time()\n",
    "array2txt(fun_conn, 'chicken_functionality.txt')\n",
    "end = time.time()\n",
    "print(end - start)"
   ]
  },
  {
   "cell_type": "code",
   "execution_count": 43,
   "metadata": {},
   "outputs": [
    {
     "data": {
      "image/png": "[encoded data removed]",
      "text/plain": [
       "<Figure size 432x288 with 1 Axes>"
      ]
     },
     "metadata": {
      "needs_background": "light"
     },
     "output_type": "display_data"
    }
   ],
   "source": [
    "degree = sorted([sum(i) for i in fun_conn], reverse = True)\n",
    "index = [i+1 for i in range(len(degree))]\n",
    "plt.hist(degree, bins = 40)\n",
    "#plt.xscale('log')\n",
    "plt.yscale('log')\n",
    "plt.show()"
   ]
  },
  {
   "cell_type": "code",
   "execution_count": null,
   "metadata": {},
   "outputs": [],
   "source": []
  }
 ],
 "metadata": {
  "kernelspec": {
   "display_name": "Python 3",
   "language": "python",
   "name": "python3"
  },
  "language_info": {
   "codemirror_mode": {
    "name": "ipython",
    "version": 3
   },
   "file_extension": ".py",
   "mimetype": "text/x-python",
   "name": "python",
   "nbconvert_exporter": "python",
   "pygments_lexer": "ipython3",
   "version": "3.7.4"
  }
 },
 "nbformat": 4,
 "nbformat_minor": 2
}
