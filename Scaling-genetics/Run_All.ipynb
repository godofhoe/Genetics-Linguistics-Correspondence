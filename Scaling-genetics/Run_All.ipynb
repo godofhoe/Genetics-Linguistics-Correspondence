{
 "cells": [
  {
   "cell_type": "code",
   "execution_count": 10,
   "metadata": {},
   "outputs": [],
   "source": [
    "import os, sys\n",
    "import traceback\n",
    "from Module.allo_chain import *\n",
    "from Module.count import *\n",
    "from Module.denoise import *\n",
    "from Module.network import *\n",
    "from Module.IO_stat import *\n",
    "\n",
    "plt.style.use('classic')"
   ]
  },
  {
   "cell_type": "code",
   "execution_count": 11,
   "metadata": {},
   "outputs": [],
   "source": [
    "def data_list(path):\n",
    "    data_load = []\n",
    "    for i in os.listdir(path):\n",
    "        j = i.split('.')\n",
    "        if 'txt' in j:\n",
    "            data_load.append(i)\n",
    "    return data_load"
   ]
  },
  {
   "cell_type": "code",
   "execution_count": 12,
   "metadata": {},
   "outputs": [
    {
     "name": "stdout",
     "output_type": "stream",
     "text": [
      "Platyfish.txt\n",
      "SLUC_FBN_1.txt\n",
      "PKINGS_0.1.txt\n",
      "Anan_2.0.txt\n",
      "CroPor_comp1.txt\n",
      "C_variegatus-1.0.txt\n",
      "ASM283717v2.txt\n",
      "fAnaTes1.2.txt\n",
      "BallGen_V1.txt\n",
      "fMasArm1.2.txt\n",
      "Nana_v5.txt\n",
      "mSarHar1.11.txt\n",
      "IpCoco_1.2.txt\n",
      "LatCha1.txt\n",
      "Myoluc2.0.txt\n",
      "ASM331708v1.txt\n",
      "Mmur_3.0.txt\n",
      "Fundulus_heteroclitus-3.0.2.txt\n",
      "FicAlb1.5.txt\n",
      "Tarsius_syrichta-2.0.1.txt\n",
      "chicken.txt\n",
      "HLtupMer3.txt\n",
      "ASM275486v1.txt\n",
      "Bison_UMD1.0.txt\n",
      "ASM1334776v1.txt\n",
      "MosMos_v2_BIUU_UCD.txt\n",
      "Mleu.le_1.0.txt\n",
      "fSclFor1.1.txt\n",
      "CAROLI_EIJ_v1.1.txt\n",
      "PanTig1.0.txt\n",
      "fBetSpl5.2.txt\n",
      "P_latipinna-1.0.txt\n",
      "TS10Xv2-PRI.txt\n",
      "ASM334442v1.txt\n",
      "CanFam3.1.txt\n",
      "Xenopus_tropicalis_v9.1.txt\n",
      "Cebus_imitator-1.0.txt\n",
      "S.galili_v1.0.txt\n",
      "Mmul_10.txt\n",
      "Felis_catus_9.0.txt\n",
      "panpan1.1.txt\n",
      "MusPutFur1.0.txt\n",
      "MesAur1.0.txt\n",
      "ARS-UCD1.2.txt\n",
      "fTakRub1.2.txt\n",
      "EBS10Xv2-PRI.txt\n",
      "gorGor4.txt\n",
      "EquCab3.0.txt\n",
      "CAU_duck1.0.txt\n",
      "BROAD S1.txt\n",
      "Chrysemys_picta_bellii-3.0.3.txt\n",
      "CamDro2.txt\n",
      "Turkey_5.1.txt\n",
      "BosGru_v2.0.txt\n",
      "ASM69896v1.txt\n",
      "PanPar1.0.txt\n",
      "turTru1.txt\n",
      "bare-nosed_wombat_genome_assembly.txt\n",
      "HU_Pman_2.1.txt\n",
      "ASM966780v1.txt\n",
      "seabass_V1.0.txt\n",
      "OchPri2.0-Ens.txt\n",
      "M_zebra_UMD2a.txt\n",
      "common_carp_genome.txt\n",
      "pteVam1.txt\n",
      "Om_v0.7.RACA.txt\n",
      "Rrox_v1.txt\n",
      "ASM359739v1.txt\n",
      "NeoBri1.0.txt\n",
      "MUSP714.txt\n",
      "PunNye1.0.txt\n",
      "mPhoSin1.pri.txt\n",
      "ICSASG_v2.txt\n",
      "proCap1.txt\n",
      "ChiLan1.0.txt\n",
      "Ee_SOAP_WITH_SSPACE.txt\n",
      "PAHARI_EIJ_v1.1.txt\n",
      "Astyanax_mexicanus-2.0.txt\n",
      "sorAra1.txt\n",
      "Loxafr3.0.txt\n",
      "TENREC.txt\n",
      "Stegastes_partitus-1.0.2.txt\n",
      "ASM858656v1.txt\n",
      "PodMur_1.0.txt\n",
      "choHof1.txt\n",
      "SCA1.txt\n",
      "latLat_1.0.txt\n",
      "fAstCal1.2.txt\n",
      "Pan_tro_3.0.txt\n",
      "JacJac1.0.txt\n",
      "Dord_2.0.txt\n",
      "Mnem_1.0.txt\n",
      "rGopEvg1_v1.p.txt\n",
      "OryCun2.0.txt\n",
      "Nemo_v1.txt\n",
      "gadMor3.0.txt\n",
      "Sdu_1.0.txt\n",
      "Midas_v5.txt\n",
      "Pcoq_1.0.txt\n",
      "GeoFor_1.0.txt\n",
      "bTaeGut1_v1.p.txt\n",
      "Pygocentrus_nattereri-1.0.2.txt\n",
      "Prosim_1.0.txt\n",
      "Poecilia_formosa-5.1.2.txt\n",
      "ARS1.txt\n",
      "ASB_HGAPassembly_v1.txt\n",
      "Cse_v1.0.txt\n",
      "Alpaca.txt\n",
      "Sscrofa11.1.txt\n",
      "PelSin_1.0.txt\n",
      "CSAV 2.0.txt\n",
      "Sedor1.txt\n",
      "Nfu_20140520.txt\n",
      "zebrafish.txt\n",
      "fCotGob3.1.txt\n",
      "CatWag_v2_BIUU_UCD.txt\n",
      "CEY_v1.txt\n",
      "ASM164957v1.txt\n",
      "T_m_triunguis-2.0.txt\n",
      "LU_Bosgru_v3.0.txt\n",
      "Dasnov3.0.txt\n",
      "UOA_Brahman_1.txt\n",
      "fMyrMur1.1.txt\n",
      "phaCin_unsw_v4.1.txt\n",
      "fDenClu1.1.txt\n",
      "H_comes_QL1_v1.txt\n",
      "ASM311381v1.txt\n",
      "ASM336829v1.txt\n",
      "ASM169854v1.txt\n",
      "Parus_major1.1.txt\n",
      "ASM229v1.txt\n",
      "LepOcu1.txt\n",
      "VulVul2.2.txt\n",
      "ASM303372v1.txt\n",
      "ASM210954v1.txt\n",
      "mSciVul1.1.txt\n",
      "WBcel235.txt\n",
      "SAMN03320097.WGS_v1.1.txt\n",
      "ChlSab1.1.txt\n",
      "NGI_Narwhal_1.txt\n",
      "Okis_V2.txt\n",
      "SpeTri2.0.txt\n",
      "fCycLum1.pri.txt\n",
      "OtoGar3.txt\n",
      "ASM874695v1.txt\n",
      "OJAV_1.1.txt\n",
      "SaiBol1.0.txt\n",
      "Ch_v2.0.2.txt\n",
      "mouse.txt\n",
      "Eburgeri_3.2.txt\n",
      "mRhiFer1_v1.p.txt\n",
      "Otsh_v1.0.txt\n",
      "fSpaAur1.1.txt\n",
      "Guppy_female_1.0_MT.txt\n",
      "Oar_v3.1.txt\n",
      "mOrnAna1.p.v1.txt\n",
      "HetGla_female_1.0.txt\n",
      "ASM325472v1.txt\n",
      "ASM259213v1.txt\n",
      "Coturnix_japonica_2.0.txt\n",
      "vicPac1.txt\n",
      "ASM342692v1.txt\n",
      "Panu_3.0.txt\n",
      "TETRAODON 8.0.txt\n",
      "Caty_1.0.txt\n",
      "Oar_rambouillet_v1.0.txt\n",
      "AmpOce1.0.txt\n",
      "CHOK1GS_HDv1.txt\n",
      "SPRET_EiJ_v1.txt\n",
      "Nleu_3.0.txt\n",
      "O_niloticus_UMD_NMBU.txt\n",
      "ASM228892v3.txt\n",
      "Omyk_1.0.txt\n",
      "MicOch1.0.txt\n",
      "AnoCar2.0v2.txt\n",
      "fErpCal1.1.txt\n",
      "OctDeg1.0.txt\n",
      "KH.txt\n",
      "Cavpor3.0.txt\n",
      "PPYG2.txt\n",
      "eriEur1.txt\n",
      "L_crocea_2.0.txt\n",
      "Pmarinus_7.0.txt\n",
      "bStrHab1_v1.p.txt\n",
      "LIGO.txt\n",
      "Macaca_fascicularis_6.0.txt\n",
      "R64-1-1.txt\n",
      "tupBel1.txt\n",
      "Human.txt\n",
      "Eluc_v4.txt\n",
      "X_maculatus-5.0-male.txt\n",
      "NNQGG.v01.txt\n",
      "mBalMus1.v2.txt\n",
      "Callorhinchus_milii-6.1.3.txt\n",
      "fSalTru1.1.txt\n",
      "bAquChr1.2.txt\n",
      "AstBur1.0.txt\n",
      "Meug_1.0.txt\n",
      "UrsMar_1.0.txt\n",
      "ASM200744v2.txt\n",
      "PanLeo1.0.txt\n",
      "marMar2.1.txt\n",
      "ASM223467v1.txt\n"
     ]
    }
   ],
   "source": [
    "data_path = './data' #The path of 'data' folder\n",
    "\n",
    "Text_path = data_path + '/Text/'                   #put your text here\n",
    "#----------------------------------------------------------------------\n",
    "Ndom_path = data_path + '/N_dom/'                  #the output folder of N-dom distribution plot\n",
    "Chain_path = data_path + '/Chain/'                 #the output folder of chain-rank plot\n",
    "Allo_path = data_path + '/Allocation/'             #the output folder of allocation-rank plot\n",
    "RRD_path = data_path + '/RRD/'                     #the output folder of RRD plot\n",
    "FRD_path = data_path + '/FRD/'                     #the output folder of FRD plot\n",
    "Geo_path = data_path + '/Geometric seq/'           #the output folder of geometric sequence plot\n",
    "SC_path = data_path + '/SC/'                       #the output document of rg plot and SC value\n",
    "fitting_path = data_path + '/fitting/'             #the output document of scaling lines fitting\n",
    "net_block_path = data_path + '/network block/'     #the output document of network analysis of protein\n",
    "net_compo_path = data_path + '/network component/' #the output document of network analysis of domain\n",
    "para_path = data_path + '/parameter/'              #the output document of GLC parameters\n",
    "\n",
    "#----------------------------------------------------------------------\n",
    "Big_path = data_path + '/Statistical result/'      #the output folder of all statistical data in execl\n",
    "\n",
    "\n",
    "data_load = data_list(Text_path)\n",
    "Text_load = [Text_path + i for i in data_load]\n",
    "for i in data_load:\n",
    "    print(i)"
   ]
  },
  {
   "cell_type": "code",
   "execution_count": 13,
   "metadata": {},
   "outputs": [],
   "source": [
    "#encode = \"UTF-16\" #(1)\n",
    "encode = \"UTF-8\"   #(2)\n",
    "\n",
    "def main():\n",
    "    error_list = []\n",
    "    #-------------------check if folders exist-----------------------------\n",
    "    PATH = [Ndom_path, Chain_path, Allo_path, RRD_path, FRD_path, Geo_path, SC_path,\n",
    "            fitting_path, net_block_path, net_compo_path, para_path, Big_path]\n",
    "    for P in PATH:\n",
    "        try:           \n",
    "            os.makedirs(P)  #create the folder\n",
    "        except:\n",
    "            print('***The folder \"%s\" already exist.' % P)\n",
    "    #----------------------------------------------------------------------\n",
    "    for Q in range(len(data_load)):\n",
    "        try:\n",
    "            filename = data_load[Q]\n",
    "            name = filename.split('.')[0]\n",
    "            big, dom, protein, longest = info(Text_load[Q], encode)\n",
    "            count_allo(protein, dom)\n",
    "            print('Successfully count allocation and chain!' + '(%s)' % filename)\n",
    "            write_to_excel(big, protein, dom, Big_path + name)\n",
    "            #--------------plot N-dom plot\n",
    "            FORMAT = 'png' #the format of your picture\n",
    "            density = True\n",
    "            Path = Ndom_path\n",
    "            \n",
    "            N_dom_dist(name, big, longest, density, FORMAT, Path)\n",
    "            #--------------plot geometric_sequence\n",
    "            V, H = geometric_sequence(protein, dom)\n",
    "            max_range = 50 #the number of elements in the sequence you want to know\n",
    "            x = 'H'\n",
    "            FORMAT = 'png' #the format of your picture\n",
    "            shift = 'N' #If you don't want to measure shift, just assign shift != 'T'.\n",
    "            Path = Geo_path\n",
    "            \n",
    "            RH = which_plot(name, V, H, x, max_range, shift, FORMAT, Path)\n",
    "            #--------------plot FRD plot\n",
    "            FORMAT = 'png' #the format of your picture\n",
    "            #auto positioning when (x_pos, y_pos)=(0, 0)\n",
    "            x_pos = 0\n",
    "            y_pos = 0\n",
    "            Path = FRD_path\n",
    "\n",
    "            FRD_protein = FRD_plot(name, protein, dom, x_pos, y_pos, FORMAT, Path)\n",
    "            Zipf = FRD_protein['ab'] #(a, b) of a*x ^-b\n",
    "            #--------------plot RRD plot\n",
    "            need_line = 'Y'\n",
    "            number_of_lines = 4\n",
    "            Color = '#ff0000'\n",
    "            FORMAT = 'png' #the format of your picture\n",
    "            Path = RRD_path\n",
    "\n",
    "            RRD_coordinate = draw_RRD_plot(big, protein, dom, longest, name, V, H,\n",
    "                           need_line, number_of_lines, Color, FORMAT, Path)\n",
    "            #--------------plot allocation-rank plot\n",
    "            FORMAT = 'png' #the format of your picture\n",
    "            x_pos = 0 #auto positioning = 0; otherwise change the value you want\n",
    "            y_pos = 0 #auto positioning = 0; otherwise change the value you want\n",
    "            Path = Allo_path\n",
    "\n",
    "            Allo_fit = Allo_plot(name, dom, x_pos, y_pos, FORMAT, Path)\n",
    "            #--------------plot chain-rank plot\n",
    "            FORMAT = 'png' #the format of your picture\n",
    "            x_pos = 0 #auto positioning = 0; otherwise change the value you want\n",
    "            y_pos = 0 #auto positioning = 0; otherwise change the value you want\n",
    "            Path = Chain_path\n",
    "\n",
    "            Chain_fit = Chain_plot(name, protein, x_pos, y_pos, FORMAT, Path)\n",
    "            #--------------calculate SC and fitting scaling lines\n",
    "            FORMAT = 'png' #the format of your picture\n",
    "            L = 4\n",
    "            toler = 50\n",
    "            num_part = 50\n",
    "            num_section = 2\n",
    "            delta = 0.15\n",
    "            percent = 0.05\n",
    "\n",
    "            g, glu = plot_g(L, V, H, big, name, longest, toler, num_part, num_section, delta, percent)\n",
    "            Rg = rg(name, g, FORMAT, SC_path)\n",
    "            \n",
    "            fit_para_best = fit_with_cut(glu, Rg[0], V, H, Zipf, name, FORMAT, fitting_path)\n",
    "            #--------------Network analysis\n",
    "            graph_protein, graph_dom = build_edge(RRD_coordinate)\n",
    "            G_protein, cluster_protein, protein_degree_sequence = graph_protein[0], graph_protein[1], graph_protein[2]\n",
    "            G_dom, cluster_dom, dom_degree_sequence = graph_dom[0], graph_dom[1], graph_dom[2]            \n",
    "            FORMAT = 'pdf'\n",
    "            \n",
    "            Path = net_block_path\n",
    "            plot_degree_block(name, protein_degree_sequence, FORMAT, Path)\n",
    "            \n",
    "            Path = net_compo_path\n",
    "            degree_component = plot_degree_compo(name, dom_degree_sequence, FORMAT, Path)\n",
    "            #--------------Record all GLC parameters\n",
    "            data_set = {}\n",
    "            data_set['FRD_protein'] = FRD_protein\n",
    "            data_set['RRD_coordinate'] = RRD_coordinate\n",
    "            data_set['Allo_fit'] = Allo_fit\n",
    "            data_set['Chain_fit'] = Chain_fit\n",
    "            data_set['glu'] = glu\n",
    "            data_set['Rg'] = Rg\n",
    "            data_set['fit_para_best'] = fit_para_best\n",
    "            data_set['degree_component'] = degree_component\n",
    "\n",
    "            para_filename = 'para_' + filename\n",
    "            Path = para_path\n",
    "            \n",
    "            save_parameters(para_filename, data_set, Path)\n",
    "            print('Successfully run all!' + '(%s)' % filename)\n",
    "        #--------------add filename to error_list when error      \n",
    "        except Exception as exc:\n",
    "            traceback.print_exc()\n",
    "            error_list.append(data_load[Q])\n",
    "            print('')\n",
    "    if error_list != []:\n",
    "        print('The following file get error when running:')\n",
    "        for i in error_list:\n",
    "            print(i)"
   ]
  },
  {
   "cell_type": "code",
   "execution_count": 14,
   "metadata": {
    "scrolled": false
   },
   "outputs": [
    {
     "name": "stdout",
     "output_type": "stream",
     "text": [
      "***The folder \"./data/N_dom/\" already exist.\n",
      "***The folder \"./data/Chain/\" already exist.\n",
      "***The folder \"./data/Allocation/\" already exist.\n",
      "***The folder \"./data/RRD/\" already exist.\n",
      "***The folder \"./data/FRD/\" already exist.\n",
      "***The folder \"./data/Geometric seq/\" already exist.\n",
      "***The folder \"./data/SC/\" already exist.\n",
      "***The folder \"./data/fitting/\" already exist.\n",
      "***The folder \"./data/network block/\" already exist.\n",
      "***The folder \"./data/network component/\" already exist.\n",
      "***The folder \"./data/parameter/\" already exist.\n",
      "***The folder \"./data/Statistical result/\" already exist.\n",
      "read file successfully!\n",
      "Successfully count protein freqency!(./data/Text/Platyfish.txt)\n",
      "Successfully count dom freqency!\n",
      "Successfully build data frames!\n",
      "Successfully count allocation and chain!(Platyfish.txt)\n"
     ]
    },
    {
     "name": "stderr",
     "output_type": "stream",
     "text": [
      "Traceback (most recent call last):\n",
      "  File \"<ipython-input-13-fa9d29663530>\", line 96, in main\n",
      "    data_set['FRD_protein'] = FRD_protein\n",
      "NameError: name 'FRD_protein' is not defined\n"
     ]
    },
    {
     "name": "stdout",
     "output_type": "stream",
     "text": [
      "\n",
      "read file successfully!\n",
      "Successfully count protein freqency!(./data/Text/SLUC_FBN_1.txt)\n",
      "Successfully count dom freqency!\n",
      "Successfully build data frames!\n",
      "Successfully count allocation and chain!(SLUC_FBN_1.txt)\n"
     ]
    },
    {
     "name": "stderr",
     "output_type": "stream",
     "text": [
      "Traceback (most recent call last):\n",
      "  File \"<ipython-input-13-fa9d29663530>\", line 96, in main\n",
      "    data_set['FRD_protein'] = FRD_protein\n",
      "NameError: name 'FRD_protein' is not defined\n"
     ]
    },
    {
     "name": "stdout",
     "output_type": "stream",
     "text": [
      "\n",
      "read file successfully!\n",
      "Successfully count protein freqency!(./data/Text/PKINGS_0.1.txt)\n",
      "Successfully count dom freqency!\n",
      "Successfully build data frames!\n",
      "Successfully count allocation and chain!(PKINGS_0.1.txt)\n"
     ]
    },
    {
     "name": "stderr",
     "output_type": "stream",
     "text": [
      "Traceback (most recent call last):\n",
      "  File \"<ipython-input-13-fa9d29663530>\", line 96, in main\n",
      "    data_set['FRD_protein'] = FRD_protein\n",
      "NameError: name 'FRD_protein' is not defined\n"
     ]
    },
    {
     "name": "stdout",
     "output_type": "stream",
     "text": [
      "\n",
      "read file successfully!\n",
      "Successfully count protein freqency!(./data/Text/Anan_2.0.txt)\n",
      "Successfully count dom freqency!\n",
      "Successfully build data frames!\n",
      "Successfully count allocation and chain!(Anan_2.0.txt)\n"
     ]
    },
    {
     "name": "stderr",
     "output_type": "stream",
     "text": [
      "Traceback (most recent call last):\n",
      "  File \"<ipython-input-13-fa9d29663530>\", line 96, in main\n",
      "    data_set['FRD_protein'] = FRD_protein\n",
      "NameError: name 'FRD_protein' is not defined\n"
     ]
    },
    {
     "name": "stdout",
     "output_type": "stream",
     "text": [
      "\n",
      "read file successfully!\n",
      "Successfully count protein freqency!(./data/Text/CroPor_comp1.txt)\n",
      "Successfully count dom freqency!\n",
      "Successfully build data frames!\n",
      "Successfully count allocation and chain!(CroPor_comp1.txt)\n"
     ]
    },
    {
     "name": "stderr",
     "output_type": "stream",
     "text": [
      "Traceback (most recent call last):\n",
      "  File \"<ipython-input-13-fa9d29663530>\", line 96, in main\n",
      "    data_set['FRD_protein'] = FRD_protein\n",
      "NameError: name 'FRD_protein' is not defined\n"
     ]
    },
    {
     "name": "stdout",
     "output_type": "stream",
     "text": [
      "\n",
      "read file successfully!\n",
      "Successfully count protein freqency!(./data/Text/C_variegatus-1.0.txt)\n",
      "Successfully count dom freqency!\n",
      "Successfully build data frames!\n",
      "Successfully count allocation and chain!(C_variegatus-1.0.txt)\n"
     ]
    },
    {
     "name": "stderr",
     "output_type": "stream",
     "text": [
      "Traceback (most recent call last):\n",
      "  File \"<ipython-input-13-fa9d29663530>\", line 96, in main\n",
      "    data_set['FRD_protein'] = FRD_protein\n",
      "NameError: name 'FRD_protein' is not defined\n"
     ]
    },
    {
     "name": "stdout",
     "output_type": "stream",
     "text": [
      "\n",
      "read file successfully!\n",
      "Successfully count protein freqency!(./data/Text/ASM283717v2.txt)\n",
      "Successfully count dom freqency!\n",
      "Successfully build data frames!\n",
      "Successfully count allocation and chain!(ASM283717v2.txt)\n"
     ]
    },
    {
     "name": "stderr",
     "output_type": "stream",
     "text": [
      "Traceback (most recent call last):\n",
      "  File \"<ipython-input-13-fa9d29663530>\", line 96, in main\n",
      "    data_set['FRD_protein'] = FRD_protein\n",
      "NameError: name 'FRD_protein' is not defined\n"
     ]
    },
    {
     "name": "stdout",
     "output_type": "stream",
     "text": [
      "\n",
      "read file successfully!\n",
      "Successfully count protein freqency!(./data/Text/fAnaTes1.2.txt)\n",
      "Successfully count dom freqency!\n",
      "Successfully build data frames!\n",
      "Successfully count allocation and chain!(fAnaTes1.2.txt)\n"
     ]
    },
    {
     "name": "stderr",
     "output_type": "stream",
     "text": [
      "Traceback (most recent call last):\n",
      "  File \"<ipython-input-13-fa9d29663530>\", line 96, in main\n",
      "    data_set['FRD_protein'] = FRD_protein\n",
      "NameError: name 'FRD_protein' is not defined\n"
     ]
    },
    {
     "name": "stdout",
     "output_type": "stream",
     "text": [
      "\n",
      "read file successfully!\n",
      "Successfully count protein freqency!(./data/Text/BallGen_V1.txt)\n",
      "Successfully count dom freqency!\n",
      "Successfully build data frames!\n",
      "Successfully count allocation and chain!(BallGen_V1.txt)\n"
     ]
    },
    {
     "name": "stderr",
     "output_type": "stream",
     "text": [
      "Traceback (most recent call last):\n",
      "  File \"<ipython-input-13-fa9d29663530>\", line 96, in main\n",
      "    data_set['FRD_protein'] = FRD_protein\n",
      "NameError: name 'FRD_protein' is not defined\n"
     ]
    },
    {
     "name": "stdout",
     "output_type": "stream",
     "text": [
      "\n",
      "read file successfully!\n",
      "Successfully count protein freqency!(./data/Text/fMasArm1.2.txt)\n",
      "Successfully count dom freqency!\n",
      "Successfully build data frames!\n",
      "Successfully count allocation and chain!(fMasArm1.2.txt)\n"
     ]
    },
    {
     "name": "stderr",
     "output_type": "stream",
     "text": [
      "Traceback (most recent call last):\n",
      "  File \"<ipython-input-13-fa9d29663530>\", line 96, in main\n",
      "    data_set['FRD_protein'] = FRD_protein\n",
      "NameError: name 'FRD_protein' is not defined\n"
     ]
    },
    {
     "name": "stdout",
     "output_type": "stream",
     "text": [
      "\n",
      "read file successfully!\n",
      "Successfully count protein freqency!(./data/Text/Nana_v5.txt)\n",
      "Successfully count dom freqency!\n",
      "Successfully build data frames!\n",
      "Successfully count allocation and chain!(Nana_v5.txt)\n"
     ]
    },
    {
     "name": "stderr",
     "output_type": "stream",
     "text": [
      "Traceback (most recent call last):\n",
      "  File \"<ipython-input-13-fa9d29663530>\", line 96, in main\n",
      "    data_set['FRD_protein'] = FRD_protein\n",
      "NameError: name 'FRD_protein' is not defined\n"
     ]
    },
    {
     "name": "stdout",
     "output_type": "stream",
     "text": [
      "\n",
      "read file successfully!\n",
      "Successfully count protein freqency!(./data/Text/mSarHar1.11.txt)\n",
      "Successfully count dom freqency!\n",
      "Successfully build data frames!\n",
      "Successfully count allocation and chain!(mSarHar1.11.txt)\n"
     ]
    },
    {
     "name": "stderr",
     "output_type": "stream",
     "text": [
      "Traceback (most recent call last):\n",
      "  File \"<ipython-input-13-fa9d29663530>\", line 96, in main\n",
      "    data_set['FRD_protein'] = FRD_protein\n",
      "NameError: name 'FRD_protein' is not defined\n"
     ]
    },
    {
     "name": "stdout",
     "output_type": "stream",
     "text": [
      "\n",
      "read file successfully!\n",
      "Successfully count protein freqency!(./data/Text/IpCoco_1.2.txt)\n",
      "Successfully count dom freqency!\n",
      "Successfully build data frames!\n",
      "Successfully count allocation and chain!(IpCoco_1.2.txt)\n"
     ]
    },
    {
     "name": "stderr",
     "output_type": "stream",
     "text": [
      "Traceback (most recent call last):\n",
      "  File \"<ipython-input-13-fa9d29663530>\", line 96, in main\n",
      "    data_set['FRD_protein'] = FRD_protein\n",
      "NameError: name 'FRD_protein' is not defined\n"
     ]
    },
    {
     "name": "stdout",
     "output_type": "stream",
     "text": [
      "\n",
      "read file successfully!\n",
      "Successfully count protein freqency!(./data/Text/LatCha1.txt)\n",
      "Successfully count dom freqency!\n",
      "Successfully build data frames!\n",
      "Successfully count allocation and chain!(LatCha1.txt)\n"
     ]
    },
    {
     "name": "stderr",
     "output_type": "stream",
     "text": [
      "Traceback (most recent call last):\n",
      "  File \"<ipython-input-13-fa9d29663530>\", line 96, in main\n",
      "    data_set['FRD_protein'] = FRD_protein\n",
      "NameError: name 'FRD_protein' is not defined\n"
     ]
    },
    {
     "name": "stdout",
     "output_type": "stream",
     "text": [
      "\n",
      "read file successfully!\n",
      "Successfully count protein freqency!(./data/Text/Myoluc2.0.txt)\n",
      "Successfully count dom freqency!\n",
      "Successfully build data frames!\n",
      "Successfully count allocation and chain!(Myoluc2.0.txt)\n"
     ]
    },
    {
     "name": "stderr",
     "output_type": "stream",
     "text": [
      "Traceback (most recent call last):\n",
      "  File \"<ipython-input-13-fa9d29663530>\", line 96, in main\n",
      "    data_set['FRD_protein'] = FRD_protein\n",
      "NameError: name 'FRD_protein' is not defined\n"
     ]
    },
    {
     "name": "stdout",
     "output_type": "stream",
     "text": [
      "\n",
      "read file successfully!\n",
      "Successfully count protein freqency!(./data/Text/ASM331708v1.txt)\n",
      "Successfully count dom freqency!\n",
      "Successfully build data frames!\n",
      "Successfully count allocation and chain!(ASM331708v1.txt)\n"
     ]
    },
    {
     "name": "stderr",
     "output_type": "stream",
     "text": [
      "Traceback (most recent call last):\n",
      "  File \"<ipython-input-13-fa9d29663530>\", line 96, in main\n",
      "    data_set['FRD_protein'] = FRD_protein\n",
      "NameError: name 'FRD_protein' is not defined\n"
     ]
    },
    {
     "name": "stdout",
     "output_type": "stream",
     "text": [
      "\n",
      "read file successfully!\n",
      "Successfully count protein freqency!(./data/Text/Mmur_3.0.txt)\n",
      "Successfully count dom freqency!\n",
      "Successfully build data frames!\n",
      "Successfully count allocation and chain!(Mmur_3.0.txt)\n"
     ]
    },
    {
     "name": "stderr",
     "output_type": "stream",
     "text": [
      "Traceback (most recent call last):\n",
      "  File \"<ipython-input-13-fa9d29663530>\", line 96, in main\n",
      "    data_set['FRD_protein'] = FRD_protein\n",
      "NameError: name 'FRD_protein' is not defined\n"
     ]
    },
    {
     "name": "stdout",
     "output_type": "stream",
     "text": [
      "\n",
      "read file successfully!\n",
      "Successfully count protein freqency!(./data/Text/Fundulus_heteroclitus-3.0.2.txt)\n",
      "Successfully count dom freqency!\n",
      "Successfully build data frames!\n",
      "Successfully count allocation and chain!(Fundulus_heteroclitus-3.0.2.txt)\n"
     ]
    },
    {
     "name": "stderr",
     "output_type": "stream",
     "text": [
      "Traceback (most recent call last):\n",
      "  File \"<ipython-input-13-fa9d29663530>\", line 96, in main\n",
      "    data_set['FRD_protein'] = FRD_protein\n",
      "NameError: name 'FRD_protein' is not defined\n"
     ]
    },
    {
     "name": "stdout",
     "output_type": "stream",
     "text": [
      "\n",
      "read file successfully!\n",
      "Successfully count protein freqency!(./data/Text/FicAlb1.5.txt)\n",
      "Successfully count dom freqency!\n",
      "Successfully build data frames!\n",
      "Successfully count allocation and chain!(FicAlb1.5.txt)\n"
     ]
    },
    {
     "name": "stderr",
     "output_type": "stream",
     "text": [
      "Traceback (most recent call last):\n",
      "  File \"<ipython-input-13-fa9d29663530>\", line 96, in main\n",
      "    data_set['FRD_protein'] = FRD_protein\n",
      "NameError: name 'FRD_protein' is not defined\n"
     ]
    },
    {
     "name": "stdout",
     "output_type": "stream",
     "text": [
      "\n",
      "read file successfully!\n",
      "Successfully count protein freqency!(./data/Text/Tarsius_syrichta-2.0.1.txt)\n",
      "Successfully count dom freqency!\n",
      "Successfully build data frames!\n",
      "Successfully count allocation and chain!(Tarsius_syrichta-2.0.1.txt)\n"
     ]
    },
    {
     "name": "stderr",
     "output_type": "stream",
     "text": [
      "Traceback (most recent call last):\n",
      "  File \"<ipython-input-13-fa9d29663530>\", line 96, in main\n",
      "    data_set['FRD_protein'] = FRD_protein\n",
      "NameError: name 'FRD_protein' is not defined\n"
     ]
    },
    {
     "name": "stdout",
     "output_type": "stream",
     "text": [
      "\n",
      "read file successfully!\n",
      "Successfully count protein freqency!(./data/Text/chicken.txt)\n",
      "Successfully count dom freqency!\n",
      "Successfully build data frames!\n",
      "Successfully count allocation and chain!(chicken.txt)\n"
     ]
    },
    {
     "name": "stderr",
     "output_type": "stream",
     "text": [
      "Traceback (most recent call last):\n",
      "  File \"<ipython-input-13-fa9d29663530>\", line 96, in main\n",
      "    data_set['FRD_protein'] = FRD_protein\n",
      "NameError: name 'FRD_protein' is not defined\n"
     ]
    },
    {
     "name": "stdout",
     "output_type": "stream",
     "text": [
      "\n",
      "read file successfully!\n",
      "Successfully count protein freqency!(./data/Text/HLtupMer3.txt)\n",
      "Successfully count dom freqency!\n",
      "Successfully build data frames!\n",
      "Successfully count allocation and chain!(HLtupMer3.txt)\n"
     ]
    },
    {
     "name": "stderr",
     "output_type": "stream",
     "text": [
      "Traceback (most recent call last):\n",
      "  File \"<ipython-input-13-fa9d29663530>\", line 96, in main\n",
      "    data_set['FRD_protein'] = FRD_protein\n",
      "NameError: name 'FRD_protein' is not defined\n"
     ]
    },
    {
     "name": "stdout",
     "output_type": "stream",
     "text": [
      "\n",
      "read file successfully!\n",
      "Successfully count protein freqency!(./data/Text/ASM275486v1.txt)\n",
      "Successfully count dom freqency!\n",
      "Successfully build data frames!\n",
      "Successfully count allocation and chain!(ASM275486v1.txt)\n"
     ]
    },
    {
     "name": "stderr",
     "output_type": "stream",
     "text": [
      "Traceback (most recent call last):\n",
      "  File \"<ipython-input-13-fa9d29663530>\", line 96, in main\n",
      "    data_set['FRD_protein'] = FRD_protein\n",
      "NameError: name 'FRD_protein' is not defined\n"
     ]
    },
    {
     "name": "stdout",
     "output_type": "stream",
     "text": [
      "\n",
      "read file successfully!\n",
      "Successfully count protein freqency!(./data/Text/Bison_UMD1.0.txt)\n",
      "Successfully count dom freqency!\n",
      "Successfully build data frames!\n",
      "Successfully count allocation and chain!(Bison_UMD1.0.txt)\n"
     ]
    },
    {
     "name": "stderr",
     "output_type": "stream",
     "text": [
      "Traceback (most recent call last):\n",
      "  File \"<ipython-input-13-fa9d29663530>\", line 96, in main\n",
      "    data_set['FRD_protein'] = FRD_protein\n",
      "NameError: name 'FRD_protein' is not defined\n"
     ]
    },
    {
     "name": "stdout",
     "output_type": "stream",
     "text": [
      "\n",
      "read file successfully!\n",
      "Successfully count protein freqency!(./data/Text/ASM1334776v1.txt)\n",
      "Successfully count dom freqency!\n",
      "Successfully build data frames!\n",
      "Successfully count allocation and chain!(ASM1334776v1.txt)\n"
     ]
    },
    {
     "name": "stderr",
     "output_type": "stream",
     "text": [
      "Traceback (most recent call last):\n",
      "  File \"<ipython-input-13-fa9d29663530>\", line 96, in main\n",
      "    data_set['FRD_protein'] = FRD_protein\n",
      "NameError: name 'FRD_protein' is not defined\n"
     ]
    },
    {
     "name": "stdout",
     "output_type": "stream",
     "text": [
      "\n",
      "read file successfully!\n",
      "Successfully count protein freqency!(./data/Text/MosMos_v2_BIUU_UCD.txt)\n",
      "Successfully count dom freqency!\n",
      "Successfully build data frames!\n",
      "Successfully count allocation and chain!(MosMos_v2_BIUU_UCD.txt)\n"
     ]
    },
    {
     "name": "stderr",
     "output_type": "stream",
     "text": [
      "Traceback (most recent call last):\n",
      "  File \"<ipython-input-13-fa9d29663530>\", line 96, in main\n",
      "    data_set['FRD_protein'] = FRD_protein\n",
      "NameError: name 'FRD_protein' is not defined\n"
     ]
    },
    {
     "name": "stdout",
     "output_type": "stream",
     "text": [
      "\n",
      "read file successfully!\n",
      "Successfully count protein freqency!(./data/Text/Mleu.le_1.0.txt)\n",
      "Successfully count dom freqency!\n",
      "Successfully build data frames!\n",
      "Successfully count allocation and chain!(Mleu.le_1.0.txt)\n"
     ]
    },
    {
     "name": "stderr",
     "output_type": "stream",
     "text": [
      "Traceback (most recent call last):\n",
      "  File \"<ipython-input-13-fa9d29663530>\", line 96, in main\n",
      "    data_set['FRD_protein'] = FRD_protein\n",
      "NameError: name 'FRD_protein' is not defined\n"
     ]
    },
    {
     "name": "stdout",
     "output_type": "stream",
     "text": [
      "\n",
      "read file successfully!\n",
      "Successfully count protein freqency!(./data/Text/fSclFor1.1.txt)\n",
      "Successfully count dom freqency!\n",
      "Successfully build data frames!\n",
      "Successfully count allocation and chain!(fSclFor1.1.txt)\n"
     ]
    },
    {
     "name": "stderr",
     "output_type": "stream",
     "text": [
      "Traceback (most recent call last):\n",
      "  File \"<ipython-input-13-fa9d29663530>\", line 96, in main\n",
      "    data_set['FRD_protein'] = FRD_protein\n",
      "NameError: name 'FRD_protein' is not defined\n"
     ]
    },
    {
     "name": "stdout",
     "output_type": "stream",
     "text": [
      "\n",
      "read file successfully!\n",
      "Successfully count protein freqency!(./data/Text/CAROLI_EIJ_v1.1.txt)\n",
      "Successfully count dom freqency!\n",
      "Successfully build data frames!\n",
      "Successfully count allocation and chain!(CAROLI_EIJ_v1.1.txt)\n"
     ]
    },
    {
     "name": "stderr",
     "output_type": "stream",
     "text": [
      "Traceback (most recent call last):\n",
      "  File \"<ipython-input-13-fa9d29663530>\", line 96, in main\n",
      "    data_set['FRD_protein'] = FRD_protein\n",
      "NameError: name 'FRD_protein' is not defined\n"
     ]
    },
    {
     "name": "stdout",
     "output_type": "stream",
     "text": [
      "\n",
      "read file successfully!\n",
      "Successfully count protein freqency!(./data/Text/PanTig1.0.txt)\n",
      "Successfully count dom freqency!\n",
      "Successfully build data frames!\n",
      "Successfully count allocation and chain!(PanTig1.0.txt)\n"
     ]
    },
    {
     "name": "stderr",
     "output_type": "stream",
     "text": [
      "Traceback (most recent call last):\n",
      "  File \"<ipython-input-13-fa9d29663530>\", line 96, in main\n",
      "    data_set['FRD_protein'] = FRD_protein\n",
      "NameError: name 'FRD_protein' is not defined\n"
     ]
    },
    {
     "name": "stdout",
     "output_type": "stream",
     "text": [
      "\n",
      "read file successfully!\n",
      "Successfully count protein freqency!(./data/Text/fBetSpl5.2.txt)\n",
      "Successfully count dom freqency!\n",
      "Successfully build data frames!\n",
      "Successfully count allocation and chain!(fBetSpl5.2.txt)\n"
     ]
    },
    {
     "name": "stderr",
     "output_type": "stream",
     "text": [
      "Traceback (most recent call last):\n",
      "  File \"<ipython-input-13-fa9d29663530>\", line 96, in main\n",
      "    data_set['FRD_protein'] = FRD_protein\n",
      "NameError: name 'FRD_protein' is not defined\n"
     ]
    },
    {
     "name": "stdout",
     "output_type": "stream",
     "text": [
      "\n",
      "read file successfully!\n",
      "Successfully count protein freqency!(./data/Text/P_latipinna-1.0.txt)\n",
      "Successfully count dom freqency!\n",
      "Successfully build data frames!\n",
      "Successfully count allocation and chain!(P_latipinna-1.0.txt)\n"
     ]
    },
    {
     "name": "stderr",
     "output_type": "stream",
     "text": [
      "Traceback (most recent call last):\n",
      "  File \"<ipython-input-13-fa9d29663530>\", line 96, in main\n",
      "    data_set['FRD_protein'] = FRD_protein\n",
      "NameError: name 'FRD_protein' is not defined\n"
     ]
    },
    {
     "name": "stdout",
     "output_type": "stream",
     "text": [
      "\n",
      "read file successfully!\n",
      "Successfully count protein freqency!(./data/Text/TS10Xv2-PRI.txt)\n",
      "Successfully count dom freqency!\n",
      "Successfully build data frames!\n",
      "Successfully count allocation and chain!(TS10Xv2-PRI.txt)\n"
     ]
    },
    {
     "name": "stderr",
     "output_type": "stream",
     "text": [
      "Traceback (most recent call last):\n",
      "  File \"<ipython-input-13-fa9d29663530>\", line 96, in main\n",
      "    data_set['FRD_protein'] = FRD_protein\n",
      "NameError: name 'FRD_protein' is not defined\n"
     ]
    },
    {
     "name": "stdout",
     "output_type": "stream",
     "text": [
      "\n",
      "read file successfully!\n",
      "Successfully count protein freqency!(./data/Text/ASM334442v1.txt)\n",
      "Successfully count dom freqency!\n",
      "Successfully build data frames!\n",
      "Successfully count allocation and chain!(ASM334442v1.txt)\n"
     ]
    },
    {
     "name": "stderr",
     "output_type": "stream",
     "text": [
      "Traceback (most recent call last):\n",
      "  File \"<ipython-input-13-fa9d29663530>\", line 96, in main\n",
      "    data_set['FRD_protein'] = FRD_protein\n",
      "NameError: name 'FRD_protein' is not defined\n"
     ]
    },
    {
     "name": "stdout",
     "output_type": "stream",
     "text": [
      "\n",
      "read file successfully!\n",
      "Successfully count protein freqency!(./data/Text/CanFam3.1.txt)\n",
      "Successfully count dom freqency!\n",
      "Successfully build data frames!\n",
      "Successfully count allocation and chain!(CanFam3.1.txt)\n"
     ]
    },
    {
     "name": "stderr",
     "output_type": "stream",
     "text": [
      "Traceback (most recent call last):\n",
      "  File \"<ipython-input-13-fa9d29663530>\", line 96, in main\n",
      "    data_set['FRD_protein'] = FRD_protein\n",
      "NameError: name 'FRD_protein' is not defined\n"
     ]
    },
    {
     "name": "stdout",
     "output_type": "stream",
     "text": [
      "\n",
      "read file successfully!\n",
      "Successfully count protein freqency!(./data/Text/Xenopus_tropicalis_v9.1.txt)\n",
      "Successfully count dom freqency!\n",
      "Successfully build data frames!\n",
      "Successfully count allocation and chain!(Xenopus_tropicalis_v9.1.txt)\n"
     ]
    },
    {
     "name": "stderr",
     "output_type": "stream",
     "text": [
      "Traceback (most recent call last):\n",
      "  File \"<ipython-input-13-fa9d29663530>\", line 96, in main\n",
      "    data_set['FRD_protein'] = FRD_protein\n",
      "NameError: name 'FRD_protein' is not defined\n"
     ]
    },
    {
     "name": "stdout",
     "output_type": "stream",
     "text": [
      "\n",
      "read file successfully!\n",
      "Successfully count protein freqency!(./data/Text/Cebus_imitator-1.0.txt)\n",
      "Successfully count dom freqency!\n",
      "Successfully build data frames!\n",
      "Successfully count allocation and chain!(Cebus_imitator-1.0.txt)\n"
     ]
    },
    {
     "name": "stderr",
     "output_type": "stream",
     "text": [
      "Traceback (most recent call last):\n",
      "  File \"<ipython-input-13-fa9d29663530>\", line 96, in main\n",
      "    data_set['FRD_protein'] = FRD_protein\n",
      "NameError: name 'FRD_protein' is not defined\n"
     ]
    },
    {
     "name": "stdout",
     "output_type": "stream",
     "text": [
      "\n",
      "read file successfully!\n",
      "Successfully count protein freqency!(./data/Text/S.galili_v1.0.txt)\n",
      "Successfully count dom freqency!\n",
      "Successfully build data frames!\n",
      "Successfully count allocation and chain!(S.galili_v1.0.txt)\n"
     ]
    },
    {
     "name": "stderr",
     "output_type": "stream",
     "text": [
      "Traceback (most recent call last):\n",
      "  File \"<ipython-input-13-fa9d29663530>\", line 96, in main\n",
      "    data_set['FRD_protein'] = FRD_protein\n",
      "NameError: name 'FRD_protein' is not defined\n"
     ]
    },
    {
     "name": "stdout",
     "output_type": "stream",
     "text": [
      "\n",
      "read file successfully!\n",
      "Successfully count protein freqency!(./data/Text/Mmul_10.txt)\n",
      "Successfully count dom freqency!\n",
      "Successfully build data frames!\n",
      "Successfully count allocation and chain!(Mmul_10.txt)\n"
     ]
    },
    {
     "name": "stderr",
     "output_type": "stream",
     "text": [
      "Traceback (most recent call last):\n",
      "  File \"<ipython-input-13-fa9d29663530>\", line 96, in main\n",
      "    data_set['FRD_protein'] = FRD_protein\n",
      "NameError: name 'FRD_protein' is not defined\n"
     ]
    },
    {
     "name": "stdout",
     "output_type": "stream",
     "text": [
      "\n",
      "read file successfully!\n",
      "Successfully count protein freqency!(./data/Text/Felis_catus_9.0.txt)\n",
      "Successfully count dom freqency!\n",
      "Successfully build data frames!\n",
      "Successfully count allocation and chain!(Felis_catus_9.0.txt)\n"
     ]
    },
    {
     "name": "stderr",
     "output_type": "stream",
     "text": [
      "Traceback (most recent call last):\n",
      "  File \"<ipython-input-13-fa9d29663530>\", line 96, in main\n",
      "    data_set['FRD_protein'] = FRD_protein\n",
      "NameError: name 'FRD_protein' is not defined\n"
     ]
    },
    {
     "name": "stdout",
     "output_type": "stream",
     "text": [
      "\n",
      "read file successfully!\n",
      "Successfully count protein freqency!(./data/Text/panpan1.1.txt)\n",
      "Successfully count dom freqency!\n",
      "Successfully build data frames!\n",
      "Successfully count allocation and chain!(panpan1.1.txt)\n"
     ]
    },
    {
     "name": "stderr",
     "output_type": "stream",
     "text": [
      "Traceback (most recent call last):\n",
      "  File \"<ipython-input-13-fa9d29663530>\", line 96, in main\n",
      "    data_set['FRD_protein'] = FRD_protein\n",
      "NameError: name 'FRD_protein' is not defined\n"
     ]
    },
    {
     "name": "stdout",
     "output_type": "stream",
     "text": [
      "\n",
      "read file successfully!\n",
      "Successfully count protein freqency!(./data/Text/MusPutFur1.0.txt)\n",
      "Successfully count dom freqency!\n",
      "Successfully build data frames!\n",
      "Successfully count allocation and chain!(MusPutFur1.0.txt)\n"
     ]
    },
    {
     "name": "stderr",
     "output_type": "stream",
     "text": [
      "Traceback (most recent call last):\n",
      "  File \"<ipython-input-13-fa9d29663530>\", line 96, in main\n",
      "    data_set['FRD_protein'] = FRD_protein\n",
      "NameError: name 'FRD_protein' is not defined\n"
     ]
    },
    {
     "name": "stdout",
     "output_type": "stream",
     "text": [
      "\n",
      "read file successfully!\n",
      "Successfully count protein freqency!(./data/Text/MesAur1.0.txt)\n",
      "Successfully count dom freqency!\n",
      "Successfully build data frames!\n",
      "Successfully count allocation and chain!(MesAur1.0.txt)\n"
     ]
    },
    {
     "name": "stderr",
     "output_type": "stream",
     "text": [
      "Traceback (most recent call last):\n",
      "  File \"<ipython-input-13-fa9d29663530>\", line 96, in main\n",
      "    data_set['FRD_protein'] = FRD_protein\n",
      "NameError: name 'FRD_protein' is not defined\n"
     ]
    },
    {
     "name": "stdout",
     "output_type": "stream",
     "text": [
      "\n",
      "read file successfully!\n",
      "Successfully count protein freqency!(./data/Text/ARS-UCD1.2.txt)\n",
      "Successfully count dom freqency!\n",
      "Successfully build data frames!\n",
      "Successfully count allocation and chain!(ARS-UCD1.2.txt)\n"
     ]
    },
    {
     "name": "stderr",
     "output_type": "stream",
     "text": [
      "Traceback (most recent call last):\n",
      "  File \"<ipython-input-13-fa9d29663530>\", line 96, in main\n",
      "    data_set['FRD_protein'] = FRD_protein\n",
      "NameError: name 'FRD_protein' is not defined\n"
     ]
    },
    {
     "name": "stdout",
     "output_type": "stream",
     "text": [
      "\n",
      "read file successfully!\n",
      "Successfully count protein freqency!(./data/Text/fTakRub1.2.txt)\n",
      "Successfully count dom freqency!\n",
      "Successfully build data frames!\n",
      "Successfully count allocation and chain!(fTakRub1.2.txt)\n"
     ]
    },
    {
     "name": "stderr",
     "output_type": "stream",
     "text": [
      "Traceback (most recent call last):\n",
      "  File \"<ipython-input-13-fa9d29663530>\", line 96, in main\n",
      "    data_set['FRD_protein'] = FRD_protein\n",
      "NameError: name 'FRD_protein' is not defined\n"
     ]
    },
    {
     "name": "stdout",
     "output_type": "stream",
     "text": [
      "\n",
      "read file successfully!\n",
      "Successfully count protein freqency!(./data/Text/EBS10Xv2-PRI.txt)\n",
      "Successfully count dom freqency!\n",
      "Successfully build data frames!\n",
      "Successfully count allocation and chain!(EBS10Xv2-PRI.txt)\n"
     ]
    },
    {
     "name": "stderr",
     "output_type": "stream",
     "text": [
      "Traceback (most recent call last):\n",
      "  File \"<ipython-input-13-fa9d29663530>\", line 96, in main\n",
      "    data_set['FRD_protein'] = FRD_protein\n",
      "NameError: name 'FRD_protein' is not defined\n"
     ]
    },
    {
     "name": "stdout",
     "output_type": "stream",
     "text": [
      "\n",
      "read file successfully!\n",
      "Successfully count protein freqency!(./data/Text/gorGor4.txt)\n",
      "Successfully count dom freqency!\n",
      "Successfully build data frames!\n",
      "Successfully count allocation and chain!(gorGor4.txt)\n"
     ]
    },
    {
     "name": "stderr",
     "output_type": "stream",
     "text": [
      "Traceback (most recent call last):\n",
      "  File \"<ipython-input-13-fa9d29663530>\", line 96, in main\n",
      "    data_set['FRD_protein'] = FRD_protein\n",
      "NameError: name 'FRD_protein' is not defined\n"
     ]
    },
    {
     "name": "stdout",
     "output_type": "stream",
     "text": [
      "\n",
      "read file successfully!\n",
      "Successfully count protein freqency!(./data/Text/EquCab3.0.txt)\n",
      "Successfully count dom freqency!\n",
      "Successfully build data frames!\n",
      "Successfully count allocation and chain!(EquCab3.0.txt)\n"
     ]
    },
    {
     "name": "stderr",
     "output_type": "stream",
     "text": [
      "Traceback (most recent call last):\n",
      "  File \"<ipython-input-13-fa9d29663530>\", line 96, in main\n",
      "    data_set['FRD_protein'] = FRD_protein\n",
      "NameError: name 'FRD_protein' is not defined\n"
     ]
    },
    {
     "name": "stdout",
     "output_type": "stream",
     "text": [
      "\n",
      "read file successfully!\n",
      "Successfully count protein freqency!(./data/Text/CAU_duck1.0.txt)\n",
      "Successfully count dom freqency!\n",
      "Successfully build data frames!\n",
      "Successfully count allocation and chain!(CAU_duck1.0.txt)\n"
     ]
    },
    {
     "name": "stderr",
     "output_type": "stream",
     "text": [
      "Traceback (most recent call last):\n",
      "  File \"<ipython-input-13-fa9d29663530>\", line 96, in main\n",
      "    data_set['FRD_protein'] = FRD_protein\n",
      "NameError: name 'FRD_protein' is not defined\n"
     ]
    },
    {
     "name": "stdout",
     "output_type": "stream",
     "text": [
      "\n",
      "read file successfully!\n",
      "Successfully count protein freqency!(./data/Text/BROAD S1.txt)\n",
      "Successfully count dom freqency!\n",
      "Successfully build data frames!\n",
      "Successfully count allocation and chain!(BROAD S1.txt)\n"
     ]
    },
    {
     "name": "stderr",
     "output_type": "stream",
     "text": [
      "Traceback (most recent call last):\n",
      "  File \"<ipython-input-13-fa9d29663530>\", line 96, in main\n",
      "    data_set['FRD_protein'] = FRD_protein\n",
      "NameError: name 'FRD_protein' is not defined\n"
     ]
    },
    {
     "name": "stdout",
     "output_type": "stream",
     "text": [
      "\n",
      "read file successfully!\n",
      "Successfully count protein freqency!(./data/Text/Chrysemys_picta_bellii-3.0.3.txt)\n",
      "Successfully count dom freqency!\n",
      "Successfully build data frames!\n",
      "Successfully count allocation and chain!(Chrysemys_picta_bellii-3.0.3.txt)\n"
     ]
    },
    {
     "name": "stderr",
     "output_type": "stream",
     "text": [
      "Traceback (most recent call last):\n",
      "  File \"<ipython-input-13-fa9d29663530>\", line 96, in main\n",
      "    data_set['FRD_protein'] = FRD_protein\n",
      "NameError: name 'FRD_protein' is not defined\n"
     ]
    },
    {
     "name": "stdout",
     "output_type": "stream",
     "text": [
      "\n",
      "read file successfully!\n",
      "Successfully count protein freqency!(./data/Text/CamDro2.txt)\n",
      "Successfully count dom freqency!\n",
      "Successfully build data frames!\n",
      "Successfully count allocation and chain!(CamDro2.txt)\n"
     ]
    },
    {
     "name": "stderr",
     "output_type": "stream",
     "text": [
      "Traceback (most recent call last):\n",
      "  File \"<ipython-input-13-fa9d29663530>\", line 96, in main\n",
      "    data_set['FRD_protein'] = FRD_protein\n",
      "NameError: name 'FRD_protein' is not defined\n"
     ]
    },
    {
     "name": "stdout",
     "output_type": "stream",
     "text": [
      "\n",
      "read file successfully!\n",
      "Successfully count protein freqency!(./data/Text/Turkey_5.1.txt)\n",
      "Successfully count dom freqency!\n",
      "Successfully build data frames!\n",
      "Successfully count allocation and chain!(Turkey_5.1.txt)\n"
     ]
    },
    {
     "name": "stderr",
     "output_type": "stream",
     "text": [
      "Traceback (most recent call last):\n",
      "  File \"<ipython-input-13-fa9d29663530>\", line 96, in main\n",
      "    data_set['FRD_protein'] = FRD_protein\n",
      "NameError: name 'FRD_protein' is not defined\n"
     ]
    },
    {
     "name": "stdout",
     "output_type": "stream",
     "text": [
      "\n",
      "read file successfully!\n",
      "Successfully count protein freqency!(./data/Text/BosGru_v2.0.txt)\n",
      "Successfully count dom freqency!\n",
      "Successfully build data frames!\n",
      "Successfully count allocation and chain!(BosGru_v2.0.txt)\n"
     ]
    },
    {
     "name": "stderr",
     "output_type": "stream",
     "text": [
      "Traceback (most recent call last):\n",
      "  File \"<ipython-input-13-fa9d29663530>\", line 96, in main\n",
      "    data_set['FRD_protein'] = FRD_protein\n",
      "NameError: name 'FRD_protein' is not defined\n"
     ]
    },
    {
     "name": "stdout",
     "output_type": "stream",
     "text": [
      "\n",
      "read file successfully!\n",
      "Successfully count protein freqency!(./data/Text/ASM69896v1.txt)\n",
      "Successfully count dom freqency!\n",
      "Successfully build data frames!\n",
      "Successfully count allocation and chain!(ASM69896v1.txt)\n"
     ]
    },
    {
     "name": "stderr",
     "output_type": "stream",
     "text": [
      "Traceback (most recent call last):\n",
      "  File \"<ipython-input-13-fa9d29663530>\", line 96, in main\n",
      "    data_set['FRD_protein'] = FRD_protein\n",
      "NameError: name 'FRD_protein' is not defined\n"
     ]
    },
    {
     "name": "stdout",
     "output_type": "stream",
     "text": [
      "\n",
      "read file successfully!\n",
      "Successfully count protein freqency!(./data/Text/PanPar1.0.txt)\n",
      "Successfully count dom freqency!\n",
      "Successfully build data frames!\n",
      "Successfully count allocation and chain!(PanPar1.0.txt)\n"
     ]
    },
    {
     "name": "stderr",
     "output_type": "stream",
     "text": [
      "Traceback (most recent call last):\n",
      "  File \"<ipython-input-13-fa9d29663530>\", line 96, in main\n",
      "    data_set['FRD_protein'] = FRD_protein\n",
      "NameError: name 'FRD_protein' is not defined\n"
     ]
    },
    {
     "name": "stdout",
     "output_type": "stream",
     "text": [
      "\n",
      "read file successfully!\n",
      "Successfully count protein freqency!(./data/Text/turTru1.txt)\n",
      "Successfully count dom freqency!\n",
      "Successfully build data frames!\n",
      "Successfully count allocation and chain!(turTru1.txt)\n"
     ]
    },
    {
     "name": "stderr",
     "output_type": "stream",
     "text": [
      "Traceback (most recent call last):\n",
      "  File \"<ipython-input-13-fa9d29663530>\", line 96, in main\n",
      "    data_set['FRD_protein'] = FRD_protein\n",
      "NameError: name 'FRD_protein' is not defined\n"
     ]
    },
    {
     "name": "stdout",
     "output_type": "stream",
     "text": [
      "\n",
      "read file successfully!\n",
      "Successfully count protein freqency!(./data/Text/bare-nosed_wombat_genome_assembly.txt)\n",
      "Successfully count dom freqency!\n",
      "Successfully build data frames!\n",
      "Successfully count allocation and chain!(bare-nosed_wombat_genome_assembly.txt)\n"
     ]
    },
    {
     "name": "stderr",
     "output_type": "stream",
     "text": [
      "Traceback (most recent call last):\n",
      "  File \"<ipython-input-13-fa9d29663530>\", line 96, in main\n",
      "    data_set['FRD_protein'] = FRD_protein\n",
      "NameError: name 'FRD_protein' is not defined\n"
     ]
    },
    {
     "name": "stdout",
     "output_type": "stream",
     "text": [
      "\n",
      "read file successfully!\n",
      "Successfully count protein freqency!(./data/Text/HU_Pman_2.1.txt)\n",
      "Successfully count dom freqency!\n",
      "Successfully build data frames!\n",
      "Successfully count allocation and chain!(HU_Pman_2.1.txt)\n"
     ]
    },
    {
     "name": "stderr",
     "output_type": "stream",
     "text": [
      "Traceback (most recent call last):\n",
      "  File \"<ipython-input-13-fa9d29663530>\", line 96, in main\n",
      "    data_set['FRD_protein'] = FRD_protein\n",
      "NameError: name 'FRD_protein' is not defined\n"
     ]
    },
    {
     "name": "stdout",
     "output_type": "stream",
     "text": [
      "\n",
      "read file successfully!\n",
      "Successfully count protein freqency!(./data/Text/ASM966780v1.txt)\n",
      "Successfully count dom freqency!\n",
      "Successfully build data frames!\n",
      "Successfully count allocation and chain!(ASM966780v1.txt)\n"
     ]
    },
    {
     "name": "stderr",
     "output_type": "stream",
     "text": [
      "Traceback (most recent call last):\n",
      "  File \"<ipython-input-13-fa9d29663530>\", line 96, in main\n",
      "    data_set['FRD_protein'] = FRD_protein\n",
      "NameError: name 'FRD_protein' is not defined\n"
     ]
    },
    {
     "name": "stdout",
     "output_type": "stream",
     "text": [
      "\n",
      "read file successfully!\n",
      "Successfully count protein freqency!(./data/Text/seabass_V1.0.txt)\n",
      "Successfully count dom freqency!\n",
      "Successfully build data frames!\n",
      "Successfully count allocation and chain!(seabass_V1.0.txt)\n"
     ]
    },
    {
     "name": "stderr",
     "output_type": "stream",
     "text": [
      "Traceback (most recent call last):\n",
      "  File \"<ipython-input-13-fa9d29663530>\", line 96, in main\n",
      "    data_set['FRD_protein'] = FRD_protein\n",
      "NameError: name 'FRD_protein' is not defined\n"
     ]
    },
    {
     "name": "stdout",
     "output_type": "stream",
     "text": [
      "\n",
      "read file successfully!\n",
      "Successfully count protein freqency!(./data/Text/OchPri2.0-Ens.txt)\n",
      "Successfully count dom freqency!\n",
      "Successfully build data frames!\n",
      "Successfully count allocation and chain!(OchPri2.0-Ens.txt)\n"
     ]
    },
    {
     "name": "stderr",
     "output_type": "stream",
     "text": [
      "Traceback (most recent call last):\n",
      "  File \"<ipython-input-13-fa9d29663530>\", line 96, in main\n",
      "    data_set['FRD_protein'] = FRD_protein\n",
      "NameError: name 'FRD_protein' is not defined\n"
     ]
    },
    {
     "name": "stdout",
     "output_type": "stream",
     "text": [
      "\n",
      "read file successfully!\n",
      "Successfully count protein freqency!(./data/Text/M_zebra_UMD2a.txt)\n",
      "Successfully count dom freqency!\n",
      "Successfully build data frames!\n",
      "Successfully count allocation and chain!(M_zebra_UMD2a.txt)\n"
     ]
    },
    {
     "name": "stderr",
     "output_type": "stream",
     "text": [
      "Traceback (most recent call last):\n",
      "  File \"<ipython-input-13-fa9d29663530>\", line 96, in main\n",
      "    data_set['FRD_protein'] = FRD_protein\n",
      "NameError: name 'FRD_protein' is not defined\n"
     ]
    },
    {
     "name": "stdout",
     "output_type": "stream",
     "text": [
      "\n",
      "read file successfully!\n",
      "Successfully count protein freqency!(./data/Text/common_carp_genome.txt)\n",
      "Successfully count dom freqency!\n",
      "Successfully build data frames!\n",
      "Successfully count allocation and chain!(common_carp_genome.txt)\n"
     ]
    },
    {
     "name": "stderr",
     "output_type": "stream",
     "text": [
      "Traceback (most recent call last):\n",
      "  File \"<ipython-input-13-fa9d29663530>\", line 96, in main\n",
      "    data_set['FRD_protein'] = FRD_protein\n",
      "NameError: name 'FRD_protein' is not defined\n"
     ]
    },
    {
     "name": "stdout",
     "output_type": "stream",
     "text": [
      "\n",
      "read file successfully!\n",
      "Successfully count protein freqency!(./data/Text/pteVam1.txt)\n",
      "Successfully count dom freqency!\n",
      "Successfully build data frames!\n",
      "Successfully count allocation and chain!(pteVam1.txt)\n"
     ]
    },
    {
     "name": "stderr",
     "output_type": "stream",
     "text": [
      "Traceback (most recent call last):\n",
      "  File \"<ipython-input-13-fa9d29663530>\", line 96, in main\n",
      "    data_set['FRD_protein'] = FRD_protein\n",
      "NameError: name 'FRD_protein' is not defined\n"
     ]
    },
    {
     "name": "stdout",
     "output_type": "stream",
     "text": [
      "\n",
      "read file successfully!\n",
      "Successfully count protein freqency!(./data/Text/Om_v0.7.RACA.txt)\n",
      "Successfully count dom freqency!\n",
      "Successfully build data frames!\n",
      "Successfully count allocation and chain!(Om_v0.7.RACA.txt)\n"
     ]
    },
    {
     "name": "stderr",
     "output_type": "stream",
     "text": [
      "Traceback (most recent call last):\n",
      "  File \"<ipython-input-13-fa9d29663530>\", line 96, in main\n",
      "    data_set['FRD_protein'] = FRD_protein\n",
      "NameError: name 'FRD_protein' is not defined\n"
     ]
    },
    {
     "name": "stdout",
     "output_type": "stream",
     "text": [
      "\n",
      "read file successfully!\n",
      "Successfully count protein freqency!(./data/Text/Rrox_v1.txt)\n",
      "Successfully count dom freqency!\n",
      "Successfully build data frames!\n",
      "Successfully count allocation and chain!(Rrox_v1.txt)\n"
     ]
    },
    {
     "name": "stderr",
     "output_type": "stream",
     "text": [
      "Traceback (most recent call last):\n",
      "  File \"<ipython-input-13-fa9d29663530>\", line 96, in main\n",
      "    data_set['FRD_protein'] = FRD_protein\n",
      "NameError: name 'FRD_protein' is not defined\n"
     ]
    },
    {
     "name": "stdout",
     "output_type": "stream",
     "text": [
      "\n",
      "read file successfully!\n",
      "Successfully count protein freqency!(./data/Text/ASM359739v1.txt)\n",
      "Successfully count dom freqency!\n",
      "Successfully build data frames!\n",
      "Successfully count allocation and chain!(ASM359739v1.txt)\n"
     ]
    },
    {
     "name": "stderr",
     "output_type": "stream",
     "text": [
      "Traceback (most recent call last):\n",
      "  File \"<ipython-input-13-fa9d29663530>\", line 96, in main\n",
      "    data_set['FRD_protein'] = FRD_protein\n",
      "NameError: name 'FRD_protein' is not defined\n"
     ]
    },
    {
     "name": "stdout",
     "output_type": "stream",
     "text": [
      "\n",
      "read file successfully!\n",
      "Successfully count protein freqency!(./data/Text/NeoBri1.0.txt)\n",
      "Successfully count dom freqency!\n",
      "Successfully build data frames!\n",
      "Successfully count allocation and chain!(NeoBri1.0.txt)\n"
     ]
    },
    {
     "name": "stderr",
     "output_type": "stream",
     "text": [
      "Traceback (most recent call last):\n",
      "  File \"<ipython-input-13-fa9d29663530>\", line 96, in main\n",
      "    data_set['FRD_protein'] = FRD_protein\n",
      "NameError: name 'FRD_protein' is not defined\n"
     ]
    },
    {
     "name": "stdout",
     "output_type": "stream",
     "text": [
      "\n",
      "read file successfully!\n",
      "Successfully count protein freqency!(./data/Text/MUSP714.txt)\n",
      "Successfully count dom freqency!\n",
      "Successfully build data frames!\n",
      "Successfully count allocation and chain!(MUSP714.txt)\n"
     ]
    },
    {
     "name": "stderr",
     "output_type": "stream",
     "text": [
      "Traceback (most recent call last):\n",
      "  File \"<ipython-input-13-fa9d29663530>\", line 96, in main\n",
      "    data_set['FRD_protein'] = FRD_protein\n",
      "NameError: name 'FRD_protein' is not defined\n"
     ]
    },
    {
     "name": "stdout",
     "output_type": "stream",
     "text": [
      "\n",
      "read file successfully!\n",
      "Successfully count protein freqency!(./data/Text/PunNye1.0.txt)\n",
      "Successfully count dom freqency!\n",
      "Successfully build data frames!\n",
      "Successfully count allocation and chain!(PunNye1.0.txt)\n"
     ]
    },
    {
     "name": "stderr",
     "output_type": "stream",
     "text": [
      "Traceback (most recent call last):\n",
      "  File \"<ipython-input-13-fa9d29663530>\", line 96, in main\n",
      "    data_set['FRD_protein'] = FRD_protein\n",
      "NameError: name 'FRD_protein' is not defined\n"
     ]
    },
    {
     "name": "stdout",
     "output_type": "stream",
     "text": [
      "\n",
      "read file successfully!\n",
      "Successfully count protein freqency!(./data/Text/mPhoSin1.pri.txt)\n",
      "Successfully count dom freqency!\n",
      "Successfully build data frames!\n",
      "Successfully count allocation and chain!(mPhoSin1.pri.txt)\n"
     ]
    },
    {
     "name": "stderr",
     "output_type": "stream",
     "text": [
      "Traceback (most recent call last):\n",
      "  File \"<ipython-input-13-fa9d29663530>\", line 96, in main\n",
      "    data_set['FRD_protein'] = FRD_protein\n",
      "NameError: name 'FRD_protein' is not defined\n"
     ]
    },
    {
     "name": "stdout",
     "output_type": "stream",
     "text": [
      "\n",
      "read file successfully!\n",
      "Successfully count protein freqency!(./data/Text/ICSASG_v2.txt)\n",
      "Successfully count dom freqency!\n",
      "Successfully build data frames!\n",
      "Successfully count allocation and chain!(ICSASG_v2.txt)\n"
     ]
    },
    {
     "name": "stderr",
     "output_type": "stream",
     "text": [
      "Traceback (most recent call last):\n",
      "  File \"<ipython-input-13-fa9d29663530>\", line 96, in main\n",
      "    data_set['FRD_protein'] = FRD_protein\n",
      "NameError: name 'FRD_protein' is not defined\n"
     ]
    },
    {
     "name": "stdout",
     "output_type": "stream",
     "text": [
      "\n",
      "read file successfully!\n",
      "Successfully count protein freqency!(./data/Text/proCap1.txt)\n",
      "Successfully count dom freqency!\n",
      "Successfully build data frames!\n",
      "Successfully count allocation and chain!(proCap1.txt)\n"
     ]
    },
    {
     "name": "stderr",
     "output_type": "stream",
     "text": [
      "Traceback (most recent call last):\n",
      "  File \"<ipython-input-13-fa9d29663530>\", line 96, in main\n",
      "    data_set['FRD_protein'] = FRD_protein\n",
      "NameError: name 'FRD_protein' is not defined\n"
     ]
    },
    {
     "name": "stdout",
     "output_type": "stream",
     "text": [
      "\n",
      "read file successfully!\n",
      "Successfully count protein freqency!(./data/Text/ChiLan1.0.txt)\n",
      "Successfully count dom freqency!\n",
      "Successfully build data frames!\n",
      "Successfully count allocation and chain!(ChiLan1.0.txt)\n"
     ]
    },
    {
     "name": "stderr",
     "output_type": "stream",
     "text": [
      "Traceback (most recent call last):\n",
      "  File \"<ipython-input-13-fa9d29663530>\", line 96, in main\n",
      "    data_set['FRD_protein'] = FRD_protein\n",
      "NameError: name 'FRD_protein' is not defined\n"
     ]
    },
    {
     "name": "stdout",
     "output_type": "stream",
     "text": [
      "\n",
      "read file successfully!\n",
      "Successfully count protein freqency!(./data/Text/Ee_SOAP_WITH_SSPACE.txt)\n",
      "Successfully count dom freqency!\n",
      "Successfully build data frames!\n",
      "Successfully count allocation and chain!(Ee_SOAP_WITH_SSPACE.txt)\n"
     ]
    },
    {
     "name": "stderr",
     "output_type": "stream",
     "text": [
      "Traceback (most recent call last):\n",
      "  File \"<ipython-input-13-fa9d29663530>\", line 96, in main\n",
      "    data_set['FRD_protein'] = FRD_protein\n",
      "NameError: name 'FRD_protein' is not defined\n"
     ]
    },
    {
     "name": "stdout",
     "output_type": "stream",
     "text": [
      "\n",
      "read file successfully!\n",
      "Successfully count protein freqency!(./data/Text/PAHARI_EIJ_v1.1.txt)\n",
      "Successfully count dom freqency!\n",
      "Successfully build data frames!\n",
      "Successfully count allocation and chain!(PAHARI_EIJ_v1.1.txt)\n"
     ]
    },
    {
     "name": "stderr",
     "output_type": "stream",
     "text": [
      "Traceback (most recent call last):\n",
      "  File \"<ipython-input-13-fa9d29663530>\", line 96, in main\n",
      "    data_set['FRD_protein'] = FRD_protein\n",
      "NameError: name 'FRD_protein' is not defined\n"
     ]
    },
    {
     "name": "stdout",
     "output_type": "stream",
     "text": [
      "\n",
      "read file successfully!\n",
      "Successfully count protein freqency!(./data/Text/Astyanax_mexicanus-2.0.txt)\n",
      "Successfully count dom freqency!\n",
      "Successfully build data frames!\n",
      "Successfully count allocation and chain!(Astyanax_mexicanus-2.0.txt)\n"
     ]
    },
    {
     "name": "stderr",
     "output_type": "stream",
     "text": [
      "Traceback (most recent call last):\n",
      "  File \"<ipython-input-13-fa9d29663530>\", line 96, in main\n",
      "    data_set['FRD_protein'] = FRD_protein\n",
      "NameError: name 'FRD_protein' is not defined\n"
     ]
    },
    {
     "name": "stdout",
     "output_type": "stream",
     "text": [
      "\n",
      "read file successfully!\n",
      "Successfully count protein freqency!(./data/Text/sorAra1.txt)\n",
      "Successfully count dom freqency!\n",
      "Successfully build data frames!\n",
      "Successfully count allocation and chain!(sorAra1.txt)\n"
     ]
    },
    {
     "name": "stderr",
     "output_type": "stream",
     "text": [
      "Traceback (most recent call last):\n",
      "  File \"<ipython-input-13-fa9d29663530>\", line 96, in main\n",
      "    data_set['FRD_protein'] = FRD_protein\n",
      "NameError: name 'FRD_protein' is not defined\n"
     ]
    },
    {
     "name": "stdout",
     "output_type": "stream",
     "text": [
      "\n",
      "read file successfully!\n",
      "Successfully count protein freqency!(./data/Text/Loxafr3.0.txt)\n",
      "Successfully count dom freqency!\n",
      "Successfully build data frames!\n",
      "Successfully count allocation and chain!(Loxafr3.0.txt)\n"
     ]
    },
    {
     "name": "stderr",
     "output_type": "stream",
     "text": [
      "Traceback (most recent call last):\n",
      "  File \"<ipython-input-13-fa9d29663530>\", line 96, in main\n",
      "    data_set['FRD_protein'] = FRD_protein\n",
      "NameError: name 'FRD_protein' is not defined\n"
     ]
    },
    {
     "name": "stdout",
     "output_type": "stream",
     "text": [
      "\n",
      "read file successfully!\n",
      "Successfully count protein freqency!(./data/Text/TENREC.txt)\n",
      "Successfully count dom freqency!\n",
      "Successfully build data frames!\n",
      "Successfully count allocation and chain!(TENREC.txt)\n"
     ]
    },
    {
     "name": "stderr",
     "output_type": "stream",
     "text": [
      "Traceback (most recent call last):\n",
      "  File \"<ipython-input-13-fa9d29663530>\", line 96, in main\n",
      "    data_set['FRD_protein'] = FRD_protein\n",
      "NameError: name 'FRD_protein' is not defined\n"
     ]
    },
    {
     "name": "stdout",
     "output_type": "stream",
     "text": [
      "\n",
      "read file successfully!\n",
      "Successfully count protein freqency!(./data/Text/Stegastes_partitus-1.0.2.txt)\n",
      "Successfully count dom freqency!\n",
      "Successfully build data frames!\n",
      "Successfully count allocation and chain!(Stegastes_partitus-1.0.2.txt)\n"
     ]
    },
    {
     "name": "stderr",
     "output_type": "stream",
     "text": [
      "Traceback (most recent call last):\n",
      "  File \"<ipython-input-13-fa9d29663530>\", line 96, in main\n",
      "    data_set['FRD_protein'] = FRD_protein\n",
      "NameError: name 'FRD_protein' is not defined\n"
     ]
    },
    {
     "name": "stdout",
     "output_type": "stream",
     "text": [
      "\n",
      "read file successfully!\n",
      "Successfully count protein freqency!(./data/Text/ASM858656v1.txt)\n",
      "Successfully count dom freqency!\n",
      "Successfully build data frames!\n",
      "Successfully count allocation and chain!(ASM858656v1.txt)\n"
     ]
    },
    {
     "name": "stderr",
     "output_type": "stream",
     "text": [
      "Traceback (most recent call last):\n",
      "  File \"<ipython-input-13-fa9d29663530>\", line 96, in main\n",
      "    data_set['FRD_protein'] = FRD_protein\n",
      "NameError: name 'FRD_protein' is not defined\n"
     ]
    },
    {
     "name": "stdout",
     "output_type": "stream",
     "text": [
      "\n",
      "read file successfully!\n",
      "Successfully count protein freqency!(./data/Text/PodMur_1.0.txt)\n",
      "Successfully count dom freqency!\n",
      "Successfully build data frames!\n",
      "Successfully count allocation and chain!(PodMur_1.0.txt)\n"
     ]
    },
    {
     "name": "stderr",
     "output_type": "stream",
     "text": [
      "Traceback (most recent call last):\n",
      "  File \"<ipython-input-13-fa9d29663530>\", line 96, in main\n",
      "    data_set['FRD_protein'] = FRD_protein\n",
      "NameError: name 'FRD_protein' is not defined\n"
     ]
    },
    {
     "name": "stdout",
     "output_type": "stream",
     "text": [
      "\n",
      "read file successfully!\n",
      "Successfully count protein freqency!(./data/Text/choHof1.txt)\n",
      "Successfully count dom freqency!\n",
      "Successfully build data frames!\n",
      "Successfully count allocation and chain!(choHof1.txt)\n"
     ]
    },
    {
     "name": "stderr",
     "output_type": "stream",
     "text": [
      "Traceback (most recent call last):\n",
      "  File \"<ipython-input-13-fa9d29663530>\", line 96, in main\n",
      "    data_set['FRD_protein'] = FRD_protein\n",
      "NameError: name 'FRD_protein' is not defined\n"
     ]
    },
    {
     "name": "stdout",
     "output_type": "stream",
     "text": [
      "\n",
      "read file successfully!\n",
      "Successfully count protein freqency!(./data/Text/SCA1.txt)\n",
      "Successfully count dom freqency!\n",
      "Successfully build data frames!\n",
      "Successfully count allocation and chain!(SCA1.txt)\n"
     ]
    },
    {
     "name": "stderr",
     "output_type": "stream",
     "text": [
      "Traceback (most recent call last):\n",
      "  File \"<ipython-input-13-fa9d29663530>\", line 96, in main\n",
      "    data_set['FRD_protein'] = FRD_protein\n",
      "NameError: name 'FRD_protein' is not defined\n"
     ]
    },
    {
     "name": "stdout",
     "output_type": "stream",
     "text": [
      "\n",
      "read file successfully!\n",
      "Successfully count protein freqency!(./data/Text/latLat_1.0.txt)\n",
      "Successfully count dom freqency!\n",
      "Successfully build data frames!\n",
      "Successfully count allocation and chain!(latLat_1.0.txt)\n"
     ]
    },
    {
     "name": "stderr",
     "output_type": "stream",
     "text": [
      "Traceback (most recent call last):\n",
      "  File \"<ipython-input-13-fa9d29663530>\", line 96, in main\n",
      "    data_set['FRD_protein'] = FRD_protein\n",
      "NameError: name 'FRD_protein' is not defined\n"
     ]
    },
    {
     "name": "stdout",
     "output_type": "stream",
     "text": [
      "\n",
      "read file successfully!\n",
      "Successfully count protein freqency!(./data/Text/fAstCal1.2.txt)\n",
      "Successfully count dom freqency!\n",
      "Successfully build data frames!\n",
      "Successfully count allocation and chain!(fAstCal1.2.txt)\n"
     ]
    },
    {
     "name": "stderr",
     "output_type": "stream",
     "text": [
      "Traceback (most recent call last):\n",
      "  File \"<ipython-input-13-fa9d29663530>\", line 96, in main\n",
      "    data_set['FRD_protein'] = FRD_protein\n",
      "NameError: name 'FRD_protein' is not defined\n"
     ]
    },
    {
     "name": "stdout",
     "output_type": "stream",
     "text": [
      "\n",
      "read file successfully!\n",
      "Successfully count protein freqency!(./data/Text/Pan_tro_3.0.txt)\n",
      "Successfully count dom freqency!\n",
      "Successfully build data frames!\n",
      "Successfully count allocation and chain!(Pan_tro_3.0.txt)\n"
     ]
    },
    {
     "name": "stderr",
     "output_type": "stream",
     "text": [
      "Traceback (most recent call last):\n",
      "  File \"<ipython-input-13-fa9d29663530>\", line 96, in main\n",
      "    data_set['FRD_protein'] = FRD_protein\n",
      "NameError: name 'FRD_protein' is not defined\n"
     ]
    },
    {
     "name": "stdout",
     "output_type": "stream",
     "text": [
      "\n",
      "read file successfully!\n",
      "Successfully count protein freqency!(./data/Text/JacJac1.0.txt)\n",
      "Successfully count dom freqency!\n",
      "Successfully build data frames!\n",
      "Successfully count allocation and chain!(JacJac1.0.txt)\n"
     ]
    },
    {
     "name": "stderr",
     "output_type": "stream",
     "text": [
      "Traceback (most recent call last):\n",
      "  File \"<ipython-input-13-fa9d29663530>\", line 96, in main\n",
      "    data_set['FRD_protein'] = FRD_protein\n",
      "NameError: name 'FRD_protein' is not defined\n"
     ]
    },
    {
     "name": "stdout",
     "output_type": "stream",
     "text": [
      "\n",
      "read file successfully!\n",
      "Successfully count protein freqency!(./data/Text/Dord_2.0.txt)\n",
      "Successfully count dom freqency!\n",
      "Successfully build data frames!\n",
      "Successfully count allocation and chain!(Dord_2.0.txt)\n"
     ]
    },
    {
     "name": "stderr",
     "output_type": "stream",
     "text": [
      "Traceback (most recent call last):\n",
      "  File \"<ipython-input-13-fa9d29663530>\", line 96, in main\n",
      "    data_set['FRD_protein'] = FRD_protein\n",
      "NameError: name 'FRD_protein' is not defined\n"
     ]
    },
    {
     "name": "stdout",
     "output_type": "stream",
     "text": [
      "\n",
      "read file successfully!\n",
      "Successfully count protein freqency!(./data/Text/Mnem_1.0.txt)\n",
      "Successfully count dom freqency!\n",
      "Successfully build data frames!\n",
      "Successfully count allocation and chain!(Mnem_1.0.txt)\n"
     ]
    },
    {
     "name": "stderr",
     "output_type": "stream",
     "text": [
      "Traceback (most recent call last):\n",
      "  File \"<ipython-input-13-fa9d29663530>\", line 96, in main\n",
      "    data_set['FRD_protein'] = FRD_protein\n",
      "NameError: name 'FRD_protein' is not defined\n"
     ]
    },
    {
     "name": "stdout",
     "output_type": "stream",
     "text": [
      "\n",
      "read file successfully!\n",
      "Successfully count protein freqency!(./data/Text/rGopEvg1_v1.p.txt)\n",
      "Successfully count dom freqency!\n",
      "Successfully build data frames!\n",
      "Successfully count allocation and chain!(rGopEvg1_v1.p.txt)\n"
     ]
    },
    {
     "name": "stderr",
     "output_type": "stream",
     "text": [
      "Traceback (most recent call last):\n",
      "  File \"<ipython-input-13-fa9d29663530>\", line 96, in main\n",
      "    data_set['FRD_protein'] = FRD_protein\n",
      "NameError: name 'FRD_protein' is not defined\n"
     ]
    },
    {
     "name": "stdout",
     "output_type": "stream",
     "text": [
      "\n",
      "read file successfully!\n",
      "Successfully count protein freqency!(./data/Text/OryCun2.0.txt)\n",
      "Successfully count dom freqency!\n",
      "Successfully build data frames!\n",
      "Successfully count allocation and chain!(OryCun2.0.txt)\n"
     ]
    },
    {
     "name": "stderr",
     "output_type": "stream",
     "text": [
      "Traceback (most recent call last):\n",
      "  File \"<ipython-input-13-fa9d29663530>\", line 96, in main\n",
      "    data_set['FRD_protein'] = FRD_protein\n",
      "NameError: name 'FRD_protein' is not defined\n"
     ]
    },
    {
     "name": "stdout",
     "output_type": "stream",
     "text": [
      "\n",
      "read file successfully!\n",
      "Successfully count protein freqency!(./data/Text/Nemo_v1.txt)\n",
      "Successfully count dom freqency!\n",
      "Successfully build data frames!\n",
      "Successfully count allocation and chain!(Nemo_v1.txt)\n"
     ]
    },
    {
     "name": "stderr",
     "output_type": "stream",
     "text": [
      "Traceback (most recent call last):\n",
      "  File \"<ipython-input-13-fa9d29663530>\", line 96, in main\n",
      "    data_set['FRD_protein'] = FRD_protein\n",
      "NameError: name 'FRD_protein' is not defined\n"
     ]
    },
    {
     "name": "stdout",
     "output_type": "stream",
     "text": [
      "\n",
      "read file successfully!\n",
      "Successfully count protein freqency!(./data/Text/gadMor3.0.txt)\n",
      "Successfully count dom freqency!\n",
      "Successfully build data frames!\n",
      "Successfully count allocation and chain!(gadMor3.0.txt)\n"
     ]
    },
    {
     "name": "stderr",
     "output_type": "stream",
     "text": [
      "Traceback (most recent call last):\n",
      "  File \"<ipython-input-13-fa9d29663530>\", line 96, in main\n",
      "    data_set['FRD_protein'] = FRD_protein\n",
      "NameError: name 'FRD_protein' is not defined\n"
     ]
    },
    {
     "name": "stdout",
     "output_type": "stream",
     "text": [
      "\n",
      "read file successfully!\n",
      "Successfully count protein freqency!(./data/Text/Sdu_1.0.txt)\n",
      "Successfully count dom freqency!\n",
      "Successfully build data frames!\n",
      "Successfully count allocation and chain!(Sdu_1.0.txt)\n"
     ]
    },
    {
     "name": "stderr",
     "output_type": "stream",
     "text": [
      "Traceback (most recent call last):\n",
      "  File \"<ipython-input-13-fa9d29663530>\", line 96, in main\n",
      "    data_set['FRD_protein'] = FRD_protein\n",
      "NameError: name 'FRD_protein' is not defined\n"
     ]
    },
    {
     "name": "stdout",
     "output_type": "stream",
     "text": [
      "\n",
      "read file successfully!\n",
      "Successfully count protein freqency!(./data/Text/Midas_v5.txt)\n",
      "Successfully count dom freqency!\n",
      "Successfully build data frames!\n",
      "Successfully count allocation and chain!(Midas_v5.txt)\n"
     ]
    },
    {
     "name": "stderr",
     "output_type": "stream",
     "text": [
      "Traceback (most recent call last):\n",
      "  File \"<ipython-input-13-fa9d29663530>\", line 96, in main\n",
      "    data_set['FRD_protein'] = FRD_protein\n",
      "NameError: name 'FRD_protein' is not defined\n"
     ]
    },
    {
     "name": "stdout",
     "output_type": "stream",
     "text": [
      "\n",
      "read file successfully!\n",
      "Successfully count protein freqency!(./data/Text/Pcoq_1.0.txt)\n",
      "Successfully count dom freqency!\n",
      "Successfully build data frames!\n",
      "Successfully count allocation and chain!(Pcoq_1.0.txt)\n"
     ]
    },
    {
     "name": "stderr",
     "output_type": "stream",
     "text": [
      "Traceback (most recent call last):\n",
      "  File \"<ipython-input-13-fa9d29663530>\", line 96, in main\n",
      "    data_set['FRD_protein'] = FRD_protein\n",
      "NameError: name 'FRD_protein' is not defined\n"
     ]
    },
    {
     "name": "stdout",
     "output_type": "stream",
     "text": [
      "\n",
      "read file successfully!\n",
      "Successfully count protein freqency!(./data/Text/GeoFor_1.0.txt)\n",
      "Successfully count dom freqency!\n",
      "Successfully build data frames!\n",
      "Successfully count allocation and chain!(GeoFor_1.0.txt)\n"
     ]
    },
    {
     "name": "stderr",
     "output_type": "stream",
     "text": [
      "Traceback (most recent call last):\n",
      "  File \"<ipython-input-13-fa9d29663530>\", line 96, in main\n",
      "    data_set['FRD_protein'] = FRD_protein\n",
      "NameError: name 'FRD_protein' is not defined\n"
     ]
    },
    {
     "name": "stdout",
     "output_type": "stream",
     "text": [
      "\n",
      "read file successfully!\n",
      "Successfully count protein freqency!(./data/Text/bTaeGut1_v1.p.txt)\n",
      "Successfully count dom freqency!\n",
      "Successfully build data frames!\n",
      "Successfully count allocation and chain!(bTaeGut1_v1.p.txt)\n"
     ]
    },
    {
     "name": "stderr",
     "output_type": "stream",
     "text": [
      "Traceback (most recent call last):\n",
      "  File \"<ipython-input-13-fa9d29663530>\", line 96, in main\n",
      "    data_set['FRD_protein'] = FRD_protein\n",
      "NameError: name 'FRD_protein' is not defined\n"
     ]
    },
    {
     "name": "stdout",
     "output_type": "stream",
     "text": [
      "\n",
      "read file successfully!\n",
      "Successfully count protein freqency!(./data/Text/Pygocentrus_nattereri-1.0.2.txt)\n",
      "Successfully count dom freqency!\n",
      "Successfully build data frames!\n",
      "Successfully count allocation and chain!(Pygocentrus_nattereri-1.0.2.txt)\n"
     ]
    },
    {
     "name": "stderr",
     "output_type": "stream",
     "text": [
      "Traceback (most recent call last):\n",
      "  File \"<ipython-input-13-fa9d29663530>\", line 96, in main\n",
      "    data_set['FRD_protein'] = FRD_protein\n",
      "NameError: name 'FRD_protein' is not defined\n"
     ]
    },
    {
     "name": "stdout",
     "output_type": "stream",
     "text": [
      "\n",
      "read file successfully!\n",
      "Successfully count protein freqency!(./data/Text/Prosim_1.0.txt)\n",
      "Successfully count dom freqency!\n",
      "Successfully build data frames!\n",
      "Successfully count allocation and chain!(Prosim_1.0.txt)\n"
     ]
    },
    {
     "name": "stderr",
     "output_type": "stream",
     "text": [
      "Traceback (most recent call last):\n",
      "  File \"<ipython-input-13-fa9d29663530>\", line 96, in main\n",
      "    data_set['FRD_protein'] = FRD_protein\n",
      "NameError: name 'FRD_protein' is not defined\n"
     ]
    },
    {
     "name": "stdout",
     "output_type": "stream",
     "text": [
      "\n",
      "read file successfully!\n",
      "Successfully count protein freqency!(./data/Text/Poecilia_formosa-5.1.2.txt)\n",
      "Successfully count dom freqency!\n",
      "Successfully build data frames!\n",
      "Successfully count allocation and chain!(Poecilia_formosa-5.1.2.txt)\n"
     ]
    },
    {
     "name": "stderr",
     "output_type": "stream",
     "text": [
      "Traceback (most recent call last):\n",
      "  File \"<ipython-input-13-fa9d29663530>\", line 96, in main\n",
      "    data_set['FRD_protein'] = FRD_protein\n",
      "NameError: name 'FRD_protein' is not defined\n"
     ]
    },
    {
     "name": "stdout",
     "output_type": "stream",
     "text": [
      "\n",
      "read file successfully!\n",
      "Successfully count protein freqency!(./data/Text/ARS1.txt)\n",
      "Successfully count dom freqency!\n",
      "Successfully build data frames!\n",
      "Successfully count allocation and chain!(ARS1.txt)\n"
     ]
    },
    {
     "name": "stderr",
     "output_type": "stream",
     "text": [
      "Traceback (most recent call last):\n",
      "  File \"<ipython-input-13-fa9d29663530>\", line 96, in main\n",
      "    data_set['FRD_protein'] = FRD_protein\n",
      "NameError: name 'FRD_protein' is not defined\n"
     ]
    },
    {
     "name": "stdout",
     "output_type": "stream",
     "text": [
      "\n",
      "read file successfully!\n",
      "Successfully count protein freqency!(./data/Text/ASB_HGAPassembly_v1.txt)\n",
      "Successfully count dom freqency!\n",
      "Successfully build data frames!\n",
      "Successfully count allocation and chain!(ASB_HGAPassembly_v1.txt)\n"
     ]
    },
    {
     "name": "stderr",
     "output_type": "stream",
     "text": [
      "Traceback (most recent call last):\n",
      "  File \"<ipython-input-13-fa9d29663530>\", line 96, in main\n",
      "    data_set['FRD_protein'] = FRD_protein\n",
      "NameError: name 'FRD_protein' is not defined\n"
     ]
    },
    {
     "name": "stdout",
     "output_type": "stream",
     "text": [
      "\n",
      "read file successfully!\n",
      "Successfully count protein freqency!(./data/Text/Cse_v1.0.txt)\n",
      "Successfully count dom freqency!\n",
      "Successfully build data frames!\n",
      "Successfully count allocation and chain!(Cse_v1.0.txt)\n"
     ]
    },
    {
     "name": "stderr",
     "output_type": "stream",
     "text": [
      "Traceback (most recent call last):\n",
      "  File \"<ipython-input-13-fa9d29663530>\", line 96, in main\n",
      "    data_set['FRD_protein'] = FRD_protein\n",
      "NameError: name 'FRD_protein' is not defined\n"
     ]
    },
    {
     "name": "stdout",
     "output_type": "stream",
     "text": [
      "\n",
      "read file successfully!\n",
      "Successfully count protein freqency!(./data/Text/Alpaca.txt)\n",
      "Successfully count dom freqency!\n",
      "Successfully build data frames!\n",
      "Successfully count allocation and chain!(Alpaca.txt)\n"
     ]
    },
    {
     "name": "stderr",
     "output_type": "stream",
     "text": [
      "Traceback (most recent call last):\n",
      "  File \"<ipython-input-13-fa9d29663530>\", line 96, in main\n",
      "    data_set['FRD_protein'] = FRD_protein\n",
      "NameError: name 'FRD_protein' is not defined\n"
     ]
    },
    {
     "name": "stdout",
     "output_type": "stream",
     "text": [
      "\n",
      "read file successfully!\n",
      "Successfully count protein freqency!(./data/Text/Sscrofa11.1.txt)\n",
      "Successfully count dom freqency!\n",
      "Successfully build data frames!\n",
      "Successfully count allocation and chain!(Sscrofa11.1.txt)\n"
     ]
    },
    {
     "name": "stderr",
     "output_type": "stream",
     "text": [
      "Traceback (most recent call last):\n",
      "  File \"<ipython-input-13-fa9d29663530>\", line 96, in main\n",
      "    data_set['FRD_protein'] = FRD_protein\n",
      "NameError: name 'FRD_protein' is not defined\n"
     ]
    },
    {
     "name": "stdout",
     "output_type": "stream",
     "text": [
      "\n",
      "read file successfully!\n",
      "Successfully count protein freqency!(./data/Text/PelSin_1.0.txt)\n",
      "Successfully count dom freqency!\n",
      "Successfully build data frames!\n",
      "Successfully count allocation and chain!(PelSin_1.0.txt)\n"
     ]
    },
    {
     "name": "stderr",
     "output_type": "stream",
     "text": [
      "Traceback (most recent call last):\n",
      "  File \"<ipython-input-13-fa9d29663530>\", line 96, in main\n",
      "    data_set['FRD_protein'] = FRD_protein\n",
      "NameError: name 'FRD_protein' is not defined\n"
     ]
    },
    {
     "name": "stdout",
     "output_type": "stream",
     "text": [
      "\n",
      "read file successfully!\n",
      "Successfully count protein freqency!(./data/Text/CSAV 2.0.txt)\n",
      "Successfully count dom freqency!\n",
      "Successfully build data frames!\n",
      "Successfully count allocation and chain!(CSAV 2.0.txt)\n"
     ]
    },
    {
     "name": "stderr",
     "output_type": "stream",
     "text": [
      "Traceback (most recent call last):\n",
      "  File \"<ipython-input-13-fa9d29663530>\", line 96, in main\n",
      "    data_set['FRD_protein'] = FRD_protein\n",
      "NameError: name 'FRD_protein' is not defined\n"
     ]
    },
    {
     "name": "stdout",
     "output_type": "stream",
     "text": [
      "\n",
      "read file successfully!\n",
      "Successfully count protein freqency!(./data/Text/Sedor1.txt)\n",
      "Successfully count dom freqency!\n",
      "Successfully build data frames!\n",
      "Successfully count allocation and chain!(Sedor1.txt)\n"
     ]
    },
    {
     "name": "stderr",
     "output_type": "stream",
     "text": [
      "Traceback (most recent call last):\n",
      "  File \"<ipython-input-13-fa9d29663530>\", line 96, in main\n",
      "    data_set['FRD_protein'] = FRD_protein\n",
      "NameError: name 'FRD_protein' is not defined\n"
     ]
    },
    {
     "name": "stdout",
     "output_type": "stream",
     "text": [
      "\n",
      "read file successfully!\n",
      "Successfully count protein freqency!(./data/Text/Nfu_20140520.txt)\n",
      "Successfully count dom freqency!\n",
      "Successfully build data frames!\n",
      "Successfully count allocation and chain!(Nfu_20140520.txt)\n"
     ]
    },
    {
     "name": "stderr",
     "output_type": "stream",
     "text": [
      "Traceback (most recent call last):\n",
      "  File \"<ipython-input-13-fa9d29663530>\", line 96, in main\n",
      "    data_set['FRD_protein'] = FRD_protein\n",
      "NameError: name 'FRD_protein' is not defined\n"
     ]
    },
    {
     "name": "stdout",
     "output_type": "stream",
     "text": [
      "\n",
      "read file successfully!\n",
      "Successfully count protein freqency!(./data/Text/zebrafish.txt)\n",
      "Successfully count dom freqency!\n",
      "Successfully build data frames!\n",
      "Successfully count allocation and chain!(zebrafish.txt)\n"
     ]
    },
    {
     "name": "stderr",
     "output_type": "stream",
     "text": [
      "Traceback (most recent call last):\n",
      "  File \"<ipython-input-13-fa9d29663530>\", line 96, in main\n",
      "    data_set['FRD_protein'] = FRD_protein\n",
      "NameError: name 'FRD_protein' is not defined\n"
     ]
    },
    {
     "name": "stdout",
     "output_type": "stream",
     "text": [
      "\n",
      "read file successfully!\n",
      "Successfully count protein freqency!(./data/Text/fCotGob3.1.txt)\n",
      "Successfully count dom freqency!\n",
      "Successfully build data frames!\n",
      "Successfully count allocation and chain!(fCotGob3.1.txt)\n"
     ]
    },
    {
     "name": "stderr",
     "output_type": "stream",
     "text": [
      "Traceback (most recent call last):\n",
      "  File \"<ipython-input-13-fa9d29663530>\", line 96, in main\n",
      "    data_set['FRD_protein'] = FRD_protein\n",
      "NameError: name 'FRD_protein' is not defined\n"
     ]
    },
    {
     "name": "stdout",
     "output_type": "stream",
     "text": [
      "\n",
      "read file successfully!\n",
      "Successfully count protein freqency!(./data/Text/CatWag_v2_BIUU_UCD.txt)\n",
      "Successfully count dom freqency!\n",
      "Successfully build data frames!\n",
      "Successfully count allocation and chain!(CatWag_v2_BIUU_UCD.txt)\n"
     ]
    },
    {
     "name": "stderr",
     "output_type": "stream",
     "text": [
      "Traceback (most recent call last):\n",
      "  File \"<ipython-input-13-fa9d29663530>\", line 96, in main\n",
      "    data_set['FRD_protein'] = FRD_protein\n",
      "NameError: name 'FRD_protein' is not defined\n"
     ]
    },
    {
     "name": "stdout",
     "output_type": "stream",
     "text": [
      "\n",
      "read file successfully!\n",
      "Successfully count protein freqency!(./data/Text/CEY_v1.txt)\n",
      "Successfully count dom freqency!\n",
      "Successfully build data frames!\n",
      "Successfully count allocation and chain!(CEY_v1.txt)\n"
     ]
    },
    {
     "name": "stderr",
     "output_type": "stream",
     "text": [
      "Traceback (most recent call last):\n",
      "  File \"<ipython-input-13-fa9d29663530>\", line 96, in main\n",
      "    data_set['FRD_protein'] = FRD_protein\n",
      "NameError: name 'FRD_protein' is not defined\n"
     ]
    },
    {
     "name": "stdout",
     "output_type": "stream",
     "text": [
      "\n",
      "read file successfully!\n",
      "Successfully count protein freqency!(./data/Text/ASM164957v1.txt)\n",
      "Successfully count dom freqency!\n",
      "Successfully build data frames!\n",
      "Successfully count allocation and chain!(ASM164957v1.txt)\n"
     ]
    },
    {
     "name": "stderr",
     "output_type": "stream",
     "text": [
      "Traceback (most recent call last):\n",
      "  File \"<ipython-input-13-fa9d29663530>\", line 96, in main\n",
      "    data_set['FRD_protein'] = FRD_protein\n",
      "NameError: name 'FRD_protein' is not defined\n"
     ]
    },
    {
     "name": "stdout",
     "output_type": "stream",
     "text": [
      "\n",
      "read file successfully!\n",
      "Successfully count protein freqency!(./data/Text/T_m_triunguis-2.0.txt)\n",
      "Successfully count dom freqency!\n",
      "Successfully build data frames!\n",
      "Successfully count allocation and chain!(T_m_triunguis-2.0.txt)\n"
     ]
    },
    {
     "name": "stderr",
     "output_type": "stream",
     "text": [
      "Traceback (most recent call last):\n",
      "  File \"<ipython-input-13-fa9d29663530>\", line 96, in main\n",
      "    data_set['FRD_protein'] = FRD_protein\n",
      "NameError: name 'FRD_protein' is not defined\n"
     ]
    },
    {
     "name": "stdout",
     "output_type": "stream",
     "text": [
      "\n",
      "read file successfully!\n",
      "Successfully count protein freqency!(./data/Text/LU_Bosgru_v3.0.txt)\n",
      "Successfully count dom freqency!\n",
      "Successfully build data frames!\n",
      "Successfully count allocation and chain!(LU_Bosgru_v3.0.txt)\n"
     ]
    },
    {
     "name": "stderr",
     "output_type": "stream",
     "text": [
      "Traceback (most recent call last):\n",
      "  File \"<ipython-input-13-fa9d29663530>\", line 96, in main\n",
      "    data_set['FRD_protein'] = FRD_protein\n",
      "NameError: name 'FRD_protein' is not defined\n"
     ]
    },
    {
     "name": "stdout",
     "output_type": "stream",
     "text": [
      "\n",
      "read file successfully!\n",
      "Successfully count protein freqency!(./data/Text/Dasnov3.0.txt)\n",
      "Successfully count dom freqency!\n",
      "Successfully build data frames!\n",
      "Successfully count allocation and chain!(Dasnov3.0.txt)\n"
     ]
    },
    {
     "name": "stderr",
     "output_type": "stream",
     "text": [
      "Traceback (most recent call last):\n",
      "  File \"<ipython-input-13-fa9d29663530>\", line 96, in main\n",
      "    data_set['FRD_protein'] = FRD_protein\n",
      "NameError: name 'FRD_protein' is not defined\n"
     ]
    },
    {
     "name": "stdout",
     "output_type": "stream",
     "text": [
      "\n",
      "read file successfully!\n",
      "Successfully count protein freqency!(./data/Text/UOA_Brahman_1.txt)\n",
      "Successfully count dom freqency!\n",
      "Successfully build data frames!\n",
      "Successfully count allocation and chain!(UOA_Brahman_1.txt)\n"
     ]
    },
    {
     "name": "stderr",
     "output_type": "stream",
     "text": [
      "Traceback (most recent call last):\n",
      "  File \"<ipython-input-13-fa9d29663530>\", line 96, in main\n",
      "    data_set['FRD_protein'] = FRD_protein\n",
      "NameError: name 'FRD_protein' is not defined\n"
     ]
    },
    {
     "name": "stdout",
     "output_type": "stream",
     "text": [
      "\n",
      "read file successfully!\n",
      "Successfully count protein freqency!(./data/Text/fMyrMur1.1.txt)\n",
      "Successfully count dom freqency!\n",
      "Successfully build data frames!\n",
      "Successfully count allocation and chain!(fMyrMur1.1.txt)\n"
     ]
    },
    {
     "name": "stderr",
     "output_type": "stream",
     "text": [
      "Traceback (most recent call last):\n",
      "  File \"<ipython-input-13-fa9d29663530>\", line 96, in main\n",
      "    data_set['FRD_protein'] = FRD_protein\n",
      "NameError: name 'FRD_protein' is not defined\n"
     ]
    },
    {
     "name": "stdout",
     "output_type": "stream",
     "text": [
      "\n",
      "read file successfully!\n",
      "Successfully count protein freqency!(./data/Text/phaCin_unsw_v4.1.txt)\n",
      "Successfully count dom freqency!\n",
      "Successfully build data frames!\n",
      "Successfully count allocation and chain!(phaCin_unsw_v4.1.txt)\n"
     ]
    },
    {
     "name": "stderr",
     "output_type": "stream",
     "text": [
      "Traceback (most recent call last):\n",
      "  File \"<ipython-input-13-fa9d29663530>\", line 96, in main\n",
      "    data_set['FRD_protein'] = FRD_protein\n",
      "NameError: name 'FRD_protein' is not defined\n"
     ]
    },
    {
     "name": "stdout",
     "output_type": "stream",
     "text": [
      "\n",
      "read file successfully!\n",
      "Successfully count protein freqency!(./data/Text/fDenClu1.1.txt)\n",
      "Successfully count dom freqency!\n",
      "Successfully build data frames!\n",
      "Successfully count allocation and chain!(fDenClu1.1.txt)\n"
     ]
    },
    {
     "name": "stderr",
     "output_type": "stream",
     "text": [
      "Traceback (most recent call last):\n",
      "  File \"<ipython-input-13-fa9d29663530>\", line 96, in main\n",
      "    data_set['FRD_protein'] = FRD_protein\n",
      "NameError: name 'FRD_protein' is not defined\n"
     ]
    },
    {
     "name": "stdout",
     "output_type": "stream",
     "text": [
      "\n",
      "read file successfully!\n",
      "Successfully count protein freqency!(./data/Text/H_comes_QL1_v1.txt)\n",
      "Successfully count dom freqency!\n",
      "Successfully build data frames!\n",
      "Successfully count allocation and chain!(H_comes_QL1_v1.txt)\n"
     ]
    },
    {
     "name": "stderr",
     "output_type": "stream",
     "text": [
      "Traceback (most recent call last):\n",
      "  File \"<ipython-input-13-fa9d29663530>\", line 96, in main\n",
      "    data_set['FRD_protein'] = FRD_protein\n",
      "NameError: name 'FRD_protein' is not defined\n"
     ]
    },
    {
     "name": "stdout",
     "output_type": "stream",
     "text": [
      "\n",
      "read file successfully!\n",
      "Successfully count protein freqency!(./data/Text/ASM311381v1.txt)\n",
      "Successfully count dom freqency!\n",
      "Successfully build data frames!\n",
      "Successfully count allocation and chain!(ASM311381v1.txt)\n"
     ]
    },
    {
     "name": "stderr",
     "output_type": "stream",
     "text": [
      "Traceback (most recent call last):\n",
      "  File \"<ipython-input-13-fa9d29663530>\", line 96, in main\n",
      "    data_set['FRD_protein'] = FRD_protein\n",
      "NameError: name 'FRD_protein' is not defined\n"
     ]
    },
    {
     "name": "stdout",
     "output_type": "stream",
     "text": [
      "\n",
      "read file successfully!\n",
      "Successfully count protein freqency!(./data/Text/ASM336829v1.txt)\n",
      "Successfully count dom freqency!\n",
      "Successfully build data frames!\n",
      "Successfully count allocation and chain!(ASM336829v1.txt)\n"
     ]
    },
    {
     "name": "stderr",
     "output_type": "stream",
     "text": [
      "Traceback (most recent call last):\n",
      "  File \"<ipython-input-13-fa9d29663530>\", line 96, in main\n",
      "    data_set['FRD_protein'] = FRD_protein\n",
      "NameError: name 'FRD_protein' is not defined\n"
     ]
    },
    {
     "name": "stdout",
     "output_type": "stream",
     "text": [
      "\n",
      "read file successfully!\n",
      "Successfully count protein freqency!(./data/Text/ASM169854v1.txt)\n",
      "Successfully count dom freqency!\n",
      "Successfully build data frames!\n",
      "Successfully count allocation and chain!(ASM169854v1.txt)\n"
     ]
    },
    {
     "name": "stderr",
     "output_type": "stream",
     "text": [
      "Traceback (most recent call last):\n",
      "  File \"<ipython-input-13-fa9d29663530>\", line 96, in main\n",
      "    data_set['FRD_protein'] = FRD_protein\n",
      "NameError: name 'FRD_protein' is not defined\n"
     ]
    },
    {
     "name": "stdout",
     "output_type": "stream",
     "text": [
      "\n",
      "read file successfully!\n",
      "Successfully count protein freqency!(./data/Text/Parus_major1.1.txt)\n",
      "Successfully count dom freqency!\n",
      "Successfully build data frames!\n",
      "Successfully count allocation and chain!(Parus_major1.1.txt)\n"
     ]
    },
    {
     "name": "stderr",
     "output_type": "stream",
     "text": [
      "Traceback (most recent call last):\n",
      "  File \"<ipython-input-13-fa9d29663530>\", line 96, in main\n",
      "    data_set['FRD_protein'] = FRD_protein\n",
      "NameError: name 'FRD_protein' is not defined\n"
     ]
    },
    {
     "name": "stdout",
     "output_type": "stream",
     "text": [
      "\n",
      "read file successfully!\n",
      "Successfully count protein freqency!(./data/Text/ASM229v1.txt)\n",
      "Successfully count dom freqency!\n",
      "Successfully build data frames!\n",
      "Successfully count allocation and chain!(ASM229v1.txt)\n"
     ]
    },
    {
     "name": "stderr",
     "output_type": "stream",
     "text": [
      "Traceback (most recent call last):\n",
      "  File \"<ipython-input-13-fa9d29663530>\", line 96, in main\n",
      "    data_set['FRD_protein'] = FRD_protein\n",
      "NameError: name 'FRD_protein' is not defined\n"
     ]
    },
    {
     "name": "stdout",
     "output_type": "stream",
     "text": [
      "\n",
      "read file successfully!\n",
      "Successfully count protein freqency!(./data/Text/LepOcu1.txt)\n",
      "Successfully count dom freqency!\n",
      "Successfully build data frames!\n",
      "Successfully count allocation and chain!(LepOcu1.txt)\n"
     ]
    },
    {
     "name": "stderr",
     "output_type": "stream",
     "text": [
      "Traceback (most recent call last):\n",
      "  File \"<ipython-input-13-fa9d29663530>\", line 96, in main\n",
      "    data_set['FRD_protein'] = FRD_protein\n",
      "NameError: name 'FRD_protein' is not defined\n"
     ]
    },
    {
     "name": "stdout",
     "output_type": "stream",
     "text": [
      "\n",
      "read file successfully!\n",
      "Successfully count protein freqency!(./data/Text/VulVul2.2.txt)\n",
      "Successfully count dom freqency!\n",
      "Successfully build data frames!\n",
      "Successfully count allocation and chain!(VulVul2.2.txt)\n"
     ]
    },
    {
     "name": "stderr",
     "output_type": "stream",
     "text": [
      "Traceback (most recent call last):\n",
      "  File \"<ipython-input-13-fa9d29663530>\", line 96, in main\n",
      "    data_set['FRD_protein'] = FRD_protein\n",
      "NameError: name 'FRD_protein' is not defined\n"
     ]
    },
    {
     "name": "stdout",
     "output_type": "stream",
     "text": [
      "\n",
      "read file successfully!\n",
      "Successfully count protein freqency!(./data/Text/ASM303372v1.txt)\n",
      "Successfully count dom freqency!\n",
      "Successfully build data frames!\n",
      "Successfully count allocation and chain!(ASM303372v1.txt)\n"
     ]
    },
    {
     "name": "stderr",
     "output_type": "stream",
     "text": [
      "Traceback (most recent call last):\n",
      "  File \"<ipython-input-13-fa9d29663530>\", line 96, in main\n",
      "    data_set['FRD_protein'] = FRD_protein\n",
      "NameError: name 'FRD_protein' is not defined\n"
     ]
    },
    {
     "name": "stdout",
     "output_type": "stream",
     "text": [
      "\n",
      "read file successfully!\n",
      "Successfully count protein freqency!(./data/Text/ASM210954v1.txt)\n",
      "Successfully count dom freqency!\n",
      "Successfully build data frames!\n",
      "Successfully count allocation and chain!(ASM210954v1.txt)\n"
     ]
    },
    {
     "name": "stderr",
     "output_type": "stream",
     "text": [
      "Traceback (most recent call last):\n",
      "  File \"<ipython-input-13-fa9d29663530>\", line 96, in main\n",
      "    data_set['FRD_protein'] = FRD_protein\n",
      "NameError: name 'FRD_protein' is not defined\n"
     ]
    },
    {
     "name": "stdout",
     "output_type": "stream",
     "text": [
      "\n",
      "read file successfully!\n",
      "Successfully count protein freqency!(./data/Text/mSciVul1.1.txt)\n",
      "Successfully count dom freqency!\n",
      "Successfully build data frames!\n",
      "Successfully count allocation and chain!(mSciVul1.1.txt)\n"
     ]
    },
    {
     "name": "stderr",
     "output_type": "stream",
     "text": [
      "Traceback (most recent call last):\n",
      "  File \"<ipython-input-13-fa9d29663530>\", line 96, in main\n",
      "    data_set['FRD_protein'] = FRD_protein\n",
      "NameError: name 'FRD_protein' is not defined\n"
     ]
    },
    {
     "name": "stdout",
     "output_type": "stream",
     "text": [
      "\n",
      "read file successfully!\n",
      "Successfully count protein freqency!(./data/Text/WBcel235.txt)\n",
      "Successfully count dom freqency!\n",
      "Successfully build data frames!\n",
      "Successfully count allocation and chain!(WBcel235.txt)\n"
     ]
    },
    {
     "name": "stderr",
     "output_type": "stream",
     "text": [
      "Traceback (most recent call last):\n",
      "  File \"<ipython-input-13-fa9d29663530>\", line 96, in main\n",
      "    data_set['FRD_protein'] = FRD_protein\n",
      "NameError: name 'FRD_protein' is not defined\n"
     ]
    },
    {
     "name": "stdout",
     "output_type": "stream",
     "text": [
      "\n",
      "read file successfully!\n",
      "Successfully count protein freqency!(./data/Text/SAMN03320097.WGS_v1.1.txt)\n",
      "Successfully count dom freqency!\n",
      "Successfully build data frames!\n",
      "Successfully count allocation and chain!(SAMN03320097.WGS_v1.1.txt)\n"
     ]
    },
    {
     "name": "stderr",
     "output_type": "stream",
     "text": [
      "Traceback (most recent call last):\n",
      "  File \"<ipython-input-13-fa9d29663530>\", line 96, in main\n",
      "    data_set['FRD_protein'] = FRD_protein\n",
      "NameError: name 'FRD_protein' is not defined\n"
     ]
    },
    {
     "name": "stdout",
     "output_type": "stream",
     "text": [
      "\n",
      "read file successfully!\n",
      "Successfully count protein freqency!(./data/Text/ChlSab1.1.txt)\n",
      "Successfully count dom freqency!\n",
      "Successfully build data frames!\n",
      "Successfully count allocation and chain!(ChlSab1.1.txt)\n"
     ]
    },
    {
     "name": "stderr",
     "output_type": "stream",
     "text": [
      "Traceback (most recent call last):\n",
      "  File \"<ipython-input-13-fa9d29663530>\", line 96, in main\n",
      "    data_set['FRD_protein'] = FRD_protein\n",
      "NameError: name 'FRD_protein' is not defined\n"
     ]
    },
    {
     "name": "stdout",
     "output_type": "stream",
     "text": [
      "\n",
      "read file successfully!\n",
      "Successfully count protein freqency!(./data/Text/NGI_Narwhal_1.txt)\n",
      "Successfully count dom freqency!\n",
      "Successfully build data frames!\n",
      "Successfully count allocation and chain!(NGI_Narwhal_1.txt)\n"
     ]
    },
    {
     "name": "stderr",
     "output_type": "stream",
     "text": [
      "Traceback (most recent call last):\n",
      "  File \"<ipython-input-13-fa9d29663530>\", line 96, in main\n",
      "    data_set['FRD_protein'] = FRD_protein\n",
      "NameError: name 'FRD_protein' is not defined\n"
     ]
    },
    {
     "name": "stdout",
     "output_type": "stream",
     "text": [
      "\n",
      "read file successfully!\n",
      "Successfully count protein freqency!(./data/Text/Okis_V2.txt)\n",
      "Successfully count dom freqency!\n",
      "Successfully build data frames!\n",
      "Successfully count allocation and chain!(Okis_V2.txt)\n"
     ]
    },
    {
     "name": "stderr",
     "output_type": "stream",
     "text": [
      "Traceback (most recent call last):\n",
      "  File \"<ipython-input-13-fa9d29663530>\", line 96, in main\n",
      "    data_set['FRD_protein'] = FRD_protein\n",
      "NameError: name 'FRD_protein' is not defined\n"
     ]
    },
    {
     "name": "stdout",
     "output_type": "stream",
     "text": [
      "\n",
      "read file successfully!\n",
      "Successfully count protein freqency!(./data/Text/SpeTri2.0.txt)\n",
      "Successfully count dom freqency!\n",
      "Successfully build data frames!\n",
      "Successfully count allocation and chain!(SpeTri2.0.txt)\n"
     ]
    },
    {
     "name": "stderr",
     "output_type": "stream",
     "text": [
      "Traceback (most recent call last):\n",
      "  File \"<ipython-input-13-fa9d29663530>\", line 96, in main\n",
      "    data_set['FRD_protein'] = FRD_protein\n",
      "NameError: name 'FRD_protein' is not defined\n"
     ]
    },
    {
     "name": "stdout",
     "output_type": "stream",
     "text": [
      "\n",
      "read file successfully!\n",
      "Successfully count protein freqency!(./data/Text/fCycLum1.pri.txt)\n",
      "Successfully count dom freqency!\n",
      "Successfully build data frames!\n",
      "Successfully count allocation and chain!(fCycLum1.pri.txt)\n"
     ]
    },
    {
     "name": "stderr",
     "output_type": "stream",
     "text": [
      "Traceback (most recent call last):\n",
      "  File \"<ipython-input-13-fa9d29663530>\", line 96, in main\n",
      "    data_set['FRD_protein'] = FRD_protein\n",
      "NameError: name 'FRD_protein' is not defined\n"
     ]
    },
    {
     "name": "stdout",
     "output_type": "stream",
     "text": [
      "\n",
      "read file successfully!\n",
      "Successfully count protein freqency!(./data/Text/OtoGar3.txt)\n",
      "Successfully count dom freqency!\n",
      "Successfully build data frames!\n",
      "Successfully count allocation and chain!(OtoGar3.txt)\n"
     ]
    },
    {
     "name": "stderr",
     "output_type": "stream",
     "text": [
      "Traceback (most recent call last):\n",
      "  File \"<ipython-input-13-fa9d29663530>\", line 96, in main\n",
      "    data_set['FRD_protein'] = FRD_protein\n",
      "NameError: name 'FRD_protein' is not defined\n"
     ]
    },
    {
     "name": "stdout",
     "output_type": "stream",
     "text": [
      "\n",
      "read file successfully!\n",
      "Successfully count protein freqency!(./data/Text/ASM874695v1.txt)\n",
      "Successfully count dom freqency!\n",
      "Successfully build data frames!\n",
      "Successfully count allocation and chain!(ASM874695v1.txt)\n"
     ]
    },
    {
     "name": "stderr",
     "output_type": "stream",
     "text": [
      "Traceback (most recent call last):\n",
      "  File \"<ipython-input-13-fa9d29663530>\", line 96, in main\n",
      "    data_set['FRD_protein'] = FRD_protein\n",
      "NameError: name 'FRD_protein' is not defined\n"
     ]
    },
    {
     "name": "stdout",
     "output_type": "stream",
     "text": [
      "\n",
      "read file successfully!\n",
      "Successfully count protein freqency!(./data/Text/OJAV_1.1.txt)\n",
      "Successfully count dom freqency!\n",
      "Successfully build data frames!\n",
      "Successfully count allocation and chain!(OJAV_1.1.txt)\n"
     ]
    },
    {
     "name": "stderr",
     "output_type": "stream",
     "text": [
      "Traceback (most recent call last):\n",
      "  File \"<ipython-input-13-fa9d29663530>\", line 96, in main\n",
      "    data_set['FRD_protein'] = FRD_protein\n",
      "NameError: name 'FRD_protein' is not defined\n"
     ]
    },
    {
     "name": "stdout",
     "output_type": "stream",
     "text": [
      "\n",
      "read file successfully!\n",
      "Successfully count protein freqency!(./data/Text/SaiBol1.0.txt)\n",
      "Successfully count dom freqency!\n",
      "Successfully build data frames!\n",
      "Successfully count allocation and chain!(SaiBol1.0.txt)\n"
     ]
    },
    {
     "name": "stderr",
     "output_type": "stream",
     "text": [
      "Traceback (most recent call last):\n",
      "  File \"<ipython-input-13-fa9d29663530>\", line 96, in main\n",
      "    data_set['FRD_protein'] = FRD_protein\n",
      "NameError: name 'FRD_protein' is not defined\n"
     ]
    },
    {
     "name": "stdout",
     "output_type": "stream",
     "text": [
      "\n",
      "read file successfully!\n",
      "Successfully count protein freqency!(./data/Text/Ch_v2.0.2.txt)\n",
      "Successfully count dom freqency!\n",
      "Successfully build data frames!\n",
      "Successfully count allocation and chain!(Ch_v2.0.2.txt)\n"
     ]
    },
    {
     "name": "stderr",
     "output_type": "stream",
     "text": [
      "Traceback (most recent call last):\n",
      "  File \"<ipython-input-13-fa9d29663530>\", line 96, in main\n",
      "    data_set['FRD_protein'] = FRD_protein\n",
      "NameError: name 'FRD_protein' is not defined\n"
     ]
    },
    {
     "name": "stdout",
     "output_type": "stream",
     "text": [
      "\n",
      "read file successfully!\n",
      "Successfully count protein freqency!(./data/Text/mouse.txt)\n",
      "Successfully count dom freqency!\n",
      "Successfully build data frames!\n",
      "Successfully count allocation and chain!(mouse.txt)\n"
     ]
    },
    {
     "name": "stderr",
     "output_type": "stream",
     "text": [
      "Traceback (most recent call last):\n",
      "  File \"<ipython-input-13-fa9d29663530>\", line 96, in main\n",
      "    data_set['FRD_protein'] = FRD_protein\n",
      "NameError: name 'FRD_protein' is not defined\n"
     ]
    },
    {
     "name": "stdout",
     "output_type": "stream",
     "text": [
      "\n",
      "read file successfully!\n",
      "Successfully count protein freqency!(./data/Text/Eburgeri_3.2.txt)\n",
      "Successfully count dom freqency!\n",
      "Successfully build data frames!\n",
      "Successfully count allocation and chain!(Eburgeri_3.2.txt)\n"
     ]
    },
    {
     "name": "stderr",
     "output_type": "stream",
     "text": [
      "Traceback (most recent call last):\n",
      "  File \"<ipython-input-13-fa9d29663530>\", line 96, in main\n",
      "    data_set['FRD_protein'] = FRD_protein\n",
      "NameError: name 'FRD_protein' is not defined\n"
     ]
    },
    {
     "name": "stdout",
     "output_type": "stream",
     "text": [
      "\n",
      "read file successfully!\n",
      "Successfully count protein freqency!(./data/Text/mRhiFer1_v1.p.txt)\n",
      "Successfully count dom freqency!\n",
      "Successfully build data frames!\n",
      "Successfully count allocation and chain!(mRhiFer1_v1.p.txt)\n"
     ]
    },
    {
     "name": "stderr",
     "output_type": "stream",
     "text": [
      "Traceback (most recent call last):\n",
      "  File \"<ipython-input-13-fa9d29663530>\", line 96, in main\n",
      "    data_set['FRD_protein'] = FRD_protein\n",
      "NameError: name 'FRD_protein' is not defined\n"
     ]
    },
    {
     "name": "stdout",
     "output_type": "stream",
     "text": [
      "\n",
      "read file successfully!\n",
      "Successfully count protein freqency!(./data/Text/Otsh_v1.0.txt)\n",
      "Successfully count dom freqency!\n",
      "Successfully build data frames!\n",
      "Successfully count allocation and chain!(Otsh_v1.0.txt)\n"
     ]
    },
    {
     "name": "stderr",
     "output_type": "stream",
     "text": [
      "Traceback (most recent call last):\n",
      "  File \"<ipython-input-13-fa9d29663530>\", line 96, in main\n",
      "    data_set['FRD_protein'] = FRD_protein\n",
      "NameError: name 'FRD_protein' is not defined\n"
     ]
    },
    {
     "name": "stdout",
     "output_type": "stream",
     "text": [
      "\n",
      "read file successfully!\n",
      "Successfully count protein freqency!(./data/Text/fSpaAur1.1.txt)\n",
      "Successfully count dom freqency!\n",
      "Successfully build data frames!\n",
      "Successfully count allocation and chain!(fSpaAur1.1.txt)\n"
     ]
    },
    {
     "name": "stderr",
     "output_type": "stream",
     "text": [
      "Traceback (most recent call last):\n",
      "  File \"<ipython-input-13-fa9d29663530>\", line 96, in main\n",
      "    data_set['FRD_protein'] = FRD_protein\n",
      "NameError: name 'FRD_protein' is not defined\n"
     ]
    },
    {
     "name": "stdout",
     "output_type": "stream",
     "text": [
      "\n",
      "read file successfully!\n",
      "Successfully count protein freqency!(./data/Text/Guppy_female_1.0_MT.txt)\n",
      "Successfully count dom freqency!\n",
      "Successfully build data frames!\n",
      "Successfully count allocation and chain!(Guppy_female_1.0_MT.txt)\n"
     ]
    },
    {
     "name": "stderr",
     "output_type": "stream",
     "text": [
      "Traceback (most recent call last):\n",
      "  File \"<ipython-input-13-fa9d29663530>\", line 96, in main\n",
      "    data_set['FRD_protein'] = FRD_protein\n",
      "NameError: name 'FRD_protein' is not defined\n"
     ]
    },
    {
     "name": "stdout",
     "output_type": "stream",
     "text": [
      "\n",
      "read file successfully!\n",
      "Successfully count protein freqency!(./data/Text/Oar_v3.1.txt)\n",
      "Successfully count dom freqency!\n",
      "Successfully build data frames!\n",
      "Successfully count allocation and chain!(Oar_v3.1.txt)\n"
     ]
    },
    {
     "name": "stderr",
     "output_type": "stream",
     "text": [
      "Traceback (most recent call last):\n",
      "  File \"<ipython-input-13-fa9d29663530>\", line 96, in main\n",
      "    data_set['FRD_protein'] = FRD_protein\n",
      "NameError: name 'FRD_protein' is not defined\n"
     ]
    },
    {
     "name": "stdout",
     "output_type": "stream",
     "text": [
      "\n",
      "read file successfully!\n",
      "Successfully count protein freqency!(./data/Text/mOrnAna1.p.v1.txt)\n",
      "Successfully count dom freqency!\n",
      "Successfully build data frames!\n",
      "Successfully count allocation and chain!(mOrnAna1.p.v1.txt)\n"
     ]
    },
    {
     "name": "stderr",
     "output_type": "stream",
     "text": [
      "Traceback (most recent call last):\n",
      "  File \"<ipython-input-13-fa9d29663530>\", line 96, in main\n",
      "    data_set['FRD_protein'] = FRD_protein\n",
      "NameError: name 'FRD_protein' is not defined\n"
     ]
    },
    {
     "name": "stdout",
     "output_type": "stream",
     "text": [
      "\n",
      "read file successfully!\n",
      "Successfully count protein freqency!(./data/Text/HetGla_female_1.0.txt)\n",
      "Successfully count dom freqency!\n",
      "Successfully build data frames!\n",
      "Successfully count allocation and chain!(HetGla_female_1.0.txt)\n"
     ]
    },
    {
     "name": "stderr",
     "output_type": "stream",
     "text": [
      "Traceback (most recent call last):\n",
      "  File \"<ipython-input-13-fa9d29663530>\", line 96, in main\n",
      "    data_set['FRD_protein'] = FRD_protein\n",
      "NameError: name 'FRD_protein' is not defined\n"
     ]
    },
    {
     "name": "stdout",
     "output_type": "stream",
     "text": [
      "\n",
      "read file successfully!\n",
      "Successfully count protein freqency!(./data/Text/ASM325472v1.txt)\n",
      "Successfully count dom freqency!\n",
      "Successfully build data frames!\n",
      "Successfully count allocation and chain!(ASM325472v1.txt)\n"
     ]
    },
    {
     "name": "stderr",
     "output_type": "stream",
     "text": [
      "Traceback (most recent call last):\n",
      "  File \"<ipython-input-13-fa9d29663530>\", line 96, in main\n",
      "    data_set['FRD_protein'] = FRD_protein\n",
      "NameError: name 'FRD_protein' is not defined\n"
     ]
    },
    {
     "name": "stdout",
     "output_type": "stream",
     "text": [
      "\n",
      "read file successfully!\n",
      "Successfully count protein freqency!(./data/Text/ASM259213v1.txt)\n",
      "Successfully count dom freqency!\n",
      "Successfully build data frames!\n",
      "Successfully count allocation and chain!(ASM259213v1.txt)\n"
     ]
    },
    {
     "name": "stderr",
     "output_type": "stream",
     "text": [
      "Traceback (most recent call last):\n",
      "  File \"<ipython-input-13-fa9d29663530>\", line 96, in main\n",
      "    data_set['FRD_protein'] = FRD_protein\n",
      "NameError: name 'FRD_protein' is not defined\n"
     ]
    },
    {
     "name": "stdout",
     "output_type": "stream",
     "text": [
      "\n",
      "read file successfully!\n",
      "Successfully count protein freqency!(./data/Text/Coturnix_japonica_2.0.txt)\n",
      "Successfully count dom freqency!\n",
      "Successfully build data frames!\n",
      "Successfully count allocation and chain!(Coturnix_japonica_2.0.txt)\n"
     ]
    },
    {
     "name": "stderr",
     "output_type": "stream",
     "text": [
      "Traceback (most recent call last):\n",
      "  File \"<ipython-input-13-fa9d29663530>\", line 96, in main\n",
      "    data_set['FRD_protein'] = FRD_protein\n",
      "NameError: name 'FRD_protein' is not defined\n"
     ]
    },
    {
     "name": "stdout",
     "output_type": "stream",
     "text": [
      "\n",
      "read file successfully!\n",
      "Successfully count protein freqency!(./data/Text/vicPac1.txt)\n",
      "Successfully count dom freqency!\n",
      "Successfully build data frames!\n",
      "Successfully count allocation and chain!(vicPac1.txt)\n"
     ]
    },
    {
     "name": "stderr",
     "output_type": "stream",
     "text": [
      "Traceback (most recent call last):\n",
      "  File \"<ipython-input-13-fa9d29663530>\", line 96, in main\n",
      "    data_set['FRD_protein'] = FRD_protein\n",
      "NameError: name 'FRD_protein' is not defined\n"
     ]
    },
    {
     "name": "stdout",
     "output_type": "stream",
     "text": [
      "\n",
      "read file successfully!\n",
      "Successfully count protein freqency!(./data/Text/ASM342692v1.txt)\n",
      "Successfully count dom freqency!\n",
      "Successfully build data frames!\n",
      "Successfully count allocation and chain!(ASM342692v1.txt)\n"
     ]
    },
    {
     "name": "stderr",
     "output_type": "stream",
     "text": [
      "Traceback (most recent call last):\n",
      "  File \"<ipython-input-13-fa9d29663530>\", line 96, in main\n",
      "    data_set['FRD_protein'] = FRD_protein\n",
      "NameError: name 'FRD_protein' is not defined\n"
     ]
    },
    {
     "name": "stdout",
     "output_type": "stream",
     "text": [
      "\n",
      "read file successfully!\n",
      "Successfully count protein freqency!(./data/Text/Panu_3.0.txt)\n",
      "Successfully count dom freqency!\n",
      "Successfully build data frames!\n",
      "Successfully count allocation and chain!(Panu_3.0.txt)\n"
     ]
    },
    {
     "name": "stderr",
     "output_type": "stream",
     "text": [
      "Traceback (most recent call last):\n",
      "  File \"<ipython-input-13-fa9d29663530>\", line 96, in main\n",
      "    data_set['FRD_protein'] = FRD_protein\n",
      "NameError: name 'FRD_protein' is not defined\n"
     ]
    },
    {
     "name": "stdout",
     "output_type": "stream",
     "text": [
      "\n",
      "read file successfully!\n",
      "Successfully count protein freqency!(./data/Text/TETRAODON 8.0.txt)\n",
      "Successfully count dom freqency!\n",
      "Successfully build data frames!\n",
      "Successfully count allocation and chain!(TETRAODON 8.0.txt)\n"
     ]
    },
    {
     "name": "stderr",
     "output_type": "stream",
     "text": [
      "Traceback (most recent call last):\n",
      "  File \"<ipython-input-13-fa9d29663530>\", line 96, in main\n",
      "    data_set['FRD_protein'] = FRD_protein\n",
      "NameError: name 'FRD_protein' is not defined\n"
     ]
    },
    {
     "name": "stdout",
     "output_type": "stream",
     "text": [
      "\n",
      "read file successfully!\n",
      "Successfully count protein freqency!(./data/Text/Caty_1.0.txt)\n",
      "Successfully count dom freqency!\n",
      "Successfully build data frames!\n",
      "Successfully count allocation and chain!(Caty_1.0.txt)\n"
     ]
    },
    {
     "name": "stderr",
     "output_type": "stream",
     "text": [
      "Traceback (most recent call last):\n",
      "  File \"<ipython-input-13-fa9d29663530>\", line 96, in main\n",
      "    data_set['FRD_protein'] = FRD_protein\n",
      "NameError: name 'FRD_protein' is not defined\n"
     ]
    },
    {
     "name": "stdout",
     "output_type": "stream",
     "text": [
      "\n",
      "read file successfully!\n",
      "Successfully count protein freqency!(./data/Text/Oar_rambouillet_v1.0.txt)\n",
      "Successfully count dom freqency!\n",
      "Successfully build data frames!\n",
      "Successfully count allocation and chain!(Oar_rambouillet_v1.0.txt)\n"
     ]
    },
    {
     "name": "stderr",
     "output_type": "stream",
     "text": [
      "Traceback (most recent call last):\n",
      "  File \"<ipython-input-13-fa9d29663530>\", line 96, in main\n",
      "    data_set['FRD_protein'] = FRD_protein\n",
      "NameError: name 'FRD_protein' is not defined\n"
     ]
    },
    {
     "name": "stdout",
     "output_type": "stream",
     "text": [
      "\n",
      "read file successfully!\n",
      "Successfully count protein freqency!(./data/Text/AmpOce1.0.txt)\n",
      "Successfully count dom freqency!\n",
      "Successfully build data frames!\n",
      "Successfully count allocation and chain!(AmpOce1.0.txt)\n"
     ]
    },
    {
     "name": "stderr",
     "output_type": "stream",
     "text": [
      "Traceback (most recent call last):\n",
      "  File \"<ipython-input-13-fa9d29663530>\", line 96, in main\n",
      "    data_set['FRD_protein'] = FRD_protein\n",
      "NameError: name 'FRD_protein' is not defined\n"
     ]
    },
    {
     "name": "stdout",
     "output_type": "stream",
     "text": [
      "\n",
      "read file successfully!\n",
      "Successfully count protein freqency!(./data/Text/CHOK1GS_HDv1.txt)\n",
      "Successfully count dom freqency!\n",
      "Successfully build data frames!\n",
      "Successfully count allocation and chain!(CHOK1GS_HDv1.txt)\n"
     ]
    },
    {
     "name": "stderr",
     "output_type": "stream",
     "text": [
      "Traceback (most recent call last):\n",
      "  File \"<ipython-input-13-fa9d29663530>\", line 96, in main\n",
      "    data_set['FRD_protein'] = FRD_protein\n",
      "NameError: name 'FRD_protein' is not defined\n"
     ]
    },
    {
     "name": "stdout",
     "output_type": "stream",
     "text": [
      "\n",
      "read file successfully!\n",
      "Successfully count protein freqency!(./data/Text/SPRET_EiJ_v1.txt)\n",
      "Successfully count dom freqency!\n",
      "Successfully build data frames!\n",
      "Successfully count allocation and chain!(SPRET_EiJ_v1.txt)\n"
     ]
    },
    {
     "name": "stderr",
     "output_type": "stream",
     "text": [
      "Traceback (most recent call last):\n",
      "  File \"<ipython-input-13-fa9d29663530>\", line 96, in main\n",
      "    data_set['FRD_protein'] = FRD_protein\n",
      "NameError: name 'FRD_protein' is not defined\n"
     ]
    },
    {
     "name": "stdout",
     "output_type": "stream",
     "text": [
      "\n",
      "read file successfully!\n",
      "Successfully count protein freqency!(./data/Text/Nleu_3.0.txt)\n",
      "Successfully count dom freqency!\n",
      "Successfully build data frames!\n",
      "Successfully count allocation and chain!(Nleu_3.0.txt)\n"
     ]
    },
    {
     "name": "stderr",
     "output_type": "stream",
     "text": [
      "Traceback (most recent call last):\n",
      "  File \"<ipython-input-13-fa9d29663530>\", line 96, in main\n",
      "    data_set['FRD_protein'] = FRD_protein\n",
      "NameError: name 'FRD_protein' is not defined\n"
     ]
    },
    {
     "name": "stdout",
     "output_type": "stream",
     "text": [
      "\n",
      "read file successfully!\n",
      "Successfully count protein freqency!(./data/Text/O_niloticus_UMD_NMBU.txt)\n",
      "Successfully count dom freqency!\n",
      "Successfully build data frames!\n",
      "Successfully count allocation and chain!(O_niloticus_UMD_NMBU.txt)\n"
     ]
    },
    {
     "name": "stderr",
     "output_type": "stream",
     "text": [
      "Traceback (most recent call last):\n",
      "  File \"<ipython-input-13-fa9d29663530>\", line 96, in main\n",
      "    data_set['FRD_protein'] = FRD_protein\n",
      "NameError: name 'FRD_protein' is not defined\n"
     ]
    },
    {
     "name": "stdout",
     "output_type": "stream",
     "text": [
      "\n",
      "read file successfully!\n",
      "Successfully count protein freqency!(./data/Text/ASM228892v3.txt)\n",
      "Successfully count dom freqency!\n",
      "Successfully build data frames!\n",
      "Successfully count allocation and chain!(ASM228892v3.txt)\n"
     ]
    },
    {
     "name": "stderr",
     "output_type": "stream",
     "text": [
      "Traceback (most recent call last):\n",
      "  File \"<ipython-input-13-fa9d29663530>\", line 96, in main\n",
      "    data_set['FRD_protein'] = FRD_protein\n",
      "NameError: name 'FRD_protein' is not defined\n"
     ]
    },
    {
     "name": "stdout",
     "output_type": "stream",
     "text": [
      "\n",
      "read file successfully!\n",
      "Successfully count protein freqency!(./data/Text/Omyk_1.0.txt)\n",
      "Successfully count dom freqency!\n",
      "Successfully build data frames!\n",
      "Successfully count allocation and chain!(Omyk_1.0.txt)\n"
     ]
    },
    {
     "name": "stderr",
     "output_type": "stream",
     "text": [
      "Traceback (most recent call last):\n",
      "  File \"<ipython-input-13-fa9d29663530>\", line 96, in main\n",
      "    data_set['FRD_protein'] = FRD_protein\n",
      "NameError: name 'FRD_protein' is not defined\n"
     ]
    },
    {
     "name": "stdout",
     "output_type": "stream",
     "text": [
      "\n",
      "read file successfully!\n",
      "Successfully count protein freqency!(./data/Text/MicOch1.0.txt)\n",
      "Successfully count dom freqency!\n",
      "Successfully build data frames!\n",
      "Successfully count allocation and chain!(MicOch1.0.txt)\n"
     ]
    },
    {
     "name": "stderr",
     "output_type": "stream",
     "text": [
      "Traceback (most recent call last):\n",
      "  File \"<ipython-input-13-fa9d29663530>\", line 96, in main\n",
      "    data_set['FRD_protein'] = FRD_protein\n",
      "NameError: name 'FRD_protein' is not defined\n"
     ]
    },
    {
     "name": "stdout",
     "output_type": "stream",
     "text": [
      "\n",
      "read file successfully!\n",
      "Successfully count protein freqency!(./data/Text/AnoCar2.0v2.txt)\n",
      "Successfully count dom freqency!\n",
      "Successfully build data frames!\n",
      "Successfully count allocation and chain!(AnoCar2.0v2.txt)\n"
     ]
    },
    {
     "name": "stderr",
     "output_type": "stream",
     "text": [
      "Traceback (most recent call last):\n",
      "  File \"<ipython-input-13-fa9d29663530>\", line 96, in main\n",
      "    data_set['FRD_protein'] = FRD_protein\n",
      "NameError: name 'FRD_protein' is not defined\n"
     ]
    },
    {
     "name": "stdout",
     "output_type": "stream",
     "text": [
      "\n",
      "read file successfully!\n",
      "Successfully count protein freqency!(./data/Text/fErpCal1.1.txt)\n",
      "Successfully count dom freqency!\n",
      "Successfully build data frames!\n",
      "Successfully count allocation and chain!(fErpCal1.1.txt)\n"
     ]
    },
    {
     "name": "stderr",
     "output_type": "stream",
     "text": [
      "Traceback (most recent call last):\n",
      "  File \"<ipython-input-13-fa9d29663530>\", line 96, in main\n",
      "    data_set['FRD_protein'] = FRD_protein\n",
      "NameError: name 'FRD_protein' is not defined\n"
     ]
    },
    {
     "name": "stdout",
     "output_type": "stream",
     "text": [
      "\n",
      "read file successfully!\n",
      "Successfully count protein freqency!(./data/Text/OctDeg1.0.txt)\n",
      "Successfully count dom freqency!\n",
      "Successfully build data frames!\n",
      "Successfully count allocation and chain!(OctDeg1.0.txt)\n"
     ]
    },
    {
     "name": "stderr",
     "output_type": "stream",
     "text": [
      "Traceback (most recent call last):\n",
      "  File \"<ipython-input-13-fa9d29663530>\", line 96, in main\n",
      "    data_set['FRD_protein'] = FRD_protein\n",
      "NameError: name 'FRD_protein' is not defined\n"
     ]
    },
    {
     "name": "stdout",
     "output_type": "stream",
     "text": [
      "\n",
      "read file successfully!\n",
      "Successfully count protein freqency!(./data/Text/KH.txt)\n",
      "Successfully count dom freqency!\n",
      "Successfully build data frames!\n",
      "Successfully count allocation and chain!(KH.txt)\n"
     ]
    },
    {
     "name": "stderr",
     "output_type": "stream",
     "text": [
      "Traceback (most recent call last):\n",
      "  File \"<ipython-input-13-fa9d29663530>\", line 96, in main\n",
      "    data_set['FRD_protein'] = FRD_protein\n",
      "NameError: name 'FRD_protein' is not defined\n"
     ]
    },
    {
     "name": "stdout",
     "output_type": "stream",
     "text": [
      "\n",
      "read file successfully!\n",
      "Successfully count protein freqency!(./data/Text/Cavpor3.0.txt)\n",
      "Successfully count dom freqency!\n",
      "Successfully build data frames!\n",
      "Successfully count allocation and chain!(Cavpor3.0.txt)\n"
     ]
    },
    {
     "name": "stderr",
     "output_type": "stream",
     "text": [
      "Traceback (most recent call last):\n",
      "  File \"<ipython-input-13-fa9d29663530>\", line 96, in main\n",
      "    data_set['FRD_protein'] = FRD_protein\n",
      "NameError: name 'FRD_protein' is not defined\n"
     ]
    },
    {
     "name": "stdout",
     "output_type": "stream",
     "text": [
      "\n",
      "read file successfully!\n",
      "Successfully count protein freqency!(./data/Text/PPYG2.txt)\n",
      "Successfully count dom freqency!\n",
      "Successfully build data frames!\n",
      "Successfully count allocation and chain!(PPYG2.txt)\n"
     ]
    },
    {
     "name": "stderr",
     "output_type": "stream",
     "text": [
      "Traceback (most recent call last):\n",
      "  File \"<ipython-input-13-fa9d29663530>\", line 96, in main\n",
      "    data_set['FRD_protein'] = FRD_protein\n",
      "NameError: name 'FRD_protein' is not defined\n"
     ]
    },
    {
     "name": "stdout",
     "output_type": "stream",
     "text": [
      "\n",
      "read file successfully!\n",
      "Successfully count protein freqency!(./data/Text/eriEur1.txt)\n",
      "Successfully count dom freqency!\n",
      "Successfully build data frames!\n",
      "Successfully count allocation and chain!(eriEur1.txt)\n"
     ]
    },
    {
     "name": "stderr",
     "output_type": "stream",
     "text": [
      "Traceback (most recent call last):\n",
      "  File \"<ipython-input-13-fa9d29663530>\", line 96, in main\n",
      "    data_set['FRD_protein'] = FRD_protein\n",
      "NameError: name 'FRD_protein' is not defined\n"
     ]
    },
    {
     "name": "stdout",
     "output_type": "stream",
     "text": [
      "\n",
      "read file successfully!\n",
      "Successfully count protein freqency!(./data/Text/L_crocea_2.0.txt)\n",
      "Successfully count dom freqency!\n",
      "Successfully build data frames!\n",
      "Successfully count allocation and chain!(L_crocea_2.0.txt)\n"
     ]
    },
    {
     "name": "stderr",
     "output_type": "stream",
     "text": [
      "Traceback (most recent call last):\n",
      "  File \"<ipython-input-13-fa9d29663530>\", line 96, in main\n",
      "    data_set['FRD_protein'] = FRD_protein\n",
      "NameError: name 'FRD_protein' is not defined\n"
     ]
    },
    {
     "name": "stdout",
     "output_type": "stream",
     "text": [
      "\n",
      "read file successfully!\n",
      "Successfully count protein freqency!(./data/Text/Pmarinus_7.0.txt)\n",
      "Successfully count dom freqency!\n",
      "Successfully build data frames!\n",
      "Successfully count allocation and chain!(Pmarinus_7.0.txt)\n"
     ]
    },
    {
     "name": "stderr",
     "output_type": "stream",
     "text": [
      "Traceback (most recent call last):\n",
      "  File \"<ipython-input-13-fa9d29663530>\", line 96, in main\n",
      "    data_set['FRD_protein'] = FRD_protein\n",
      "NameError: name 'FRD_protein' is not defined\n"
     ]
    },
    {
     "name": "stdout",
     "output_type": "stream",
     "text": [
      "\n",
      "read file successfully!\n",
      "Successfully count protein freqency!(./data/Text/bStrHab1_v1.p.txt)\n",
      "Successfully count dom freqency!\n",
      "Successfully build data frames!\n",
      "Successfully count allocation and chain!(bStrHab1_v1.p.txt)\n"
     ]
    },
    {
     "name": "stderr",
     "output_type": "stream",
     "text": [
      "Traceback (most recent call last):\n",
      "  File \"<ipython-input-13-fa9d29663530>\", line 96, in main\n",
      "    data_set['FRD_protein'] = FRD_protein\n",
      "NameError: name 'FRD_protein' is not defined\n"
     ]
    },
    {
     "name": "stdout",
     "output_type": "stream",
     "text": [
      "\n",
      "read file successfully!\n",
      "Successfully count protein freqency!(./data/Text/LIGO.txt)\n",
      "Successfully count dom freqency!\n",
      "Successfully build data frames!\n",
      "Successfully count allocation and chain!(LIGO.txt)\n"
     ]
    },
    {
     "name": "stderr",
     "output_type": "stream",
     "text": [
      "Traceback (most recent call last):\n",
      "  File \"<ipython-input-13-fa9d29663530>\", line 96, in main\n",
      "    data_set['FRD_protein'] = FRD_protein\n",
      "NameError: name 'FRD_protein' is not defined\n"
     ]
    },
    {
     "name": "stdout",
     "output_type": "stream",
     "text": [
      "\n",
      "read file successfully!\n",
      "Successfully count protein freqency!(./data/Text/Macaca_fascicularis_6.0.txt)\n",
      "Successfully count dom freqency!\n",
      "Successfully build data frames!\n",
      "Successfully count allocation and chain!(Macaca_fascicularis_6.0.txt)\n"
     ]
    },
    {
     "name": "stderr",
     "output_type": "stream",
     "text": [
      "Traceback (most recent call last):\n",
      "  File \"<ipython-input-13-fa9d29663530>\", line 96, in main\n",
      "    data_set['FRD_protein'] = FRD_protein\n",
      "NameError: name 'FRD_protein' is not defined\n"
     ]
    },
    {
     "name": "stdout",
     "output_type": "stream",
     "text": [
      "\n",
      "read file successfully!\n",
      "Successfully count protein freqency!(./data/Text/R64-1-1.txt)\n",
      "Successfully count dom freqency!\n",
      "Successfully build data frames!\n",
      "Successfully count allocation and chain!(R64-1-1.txt)\n"
     ]
    },
    {
     "name": "stderr",
     "output_type": "stream",
     "text": [
      "Traceback (most recent call last):\n",
      "  File \"<ipython-input-13-fa9d29663530>\", line 96, in main\n",
      "    data_set['FRD_protein'] = FRD_protein\n",
      "NameError: name 'FRD_protein' is not defined\n"
     ]
    },
    {
     "name": "stdout",
     "output_type": "stream",
     "text": [
      "\n",
      "read file successfully!\n",
      "Successfully count protein freqency!(./data/Text/tupBel1.txt)\n",
      "Successfully count dom freqency!\n",
      "Successfully build data frames!\n",
      "Successfully count allocation and chain!(tupBel1.txt)\n"
     ]
    },
    {
     "name": "stderr",
     "output_type": "stream",
     "text": [
      "Traceback (most recent call last):\n",
      "  File \"<ipython-input-13-fa9d29663530>\", line 96, in main\n",
      "    data_set['FRD_protein'] = FRD_protein\n",
      "NameError: name 'FRD_protein' is not defined\n"
     ]
    },
    {
     "name": "stdout",
     "output_type": "stream",
     "text": [
      "\n",
      "read file successfully!\n",
      "Successfully count protein freqency!(./data/Text/Human.txt)\n",
      "Successfully count dom freqency!\n",
      "Successfully build data frames!\n",
      "Successfully count allocation and chain!(Human.txt)\n"
     ]
    },
    {
     "name": "stderr",
     "output_type": "stream",
     "text": [
      "Traceback (most recent call last):\n",
      "  File \"<ipython-input-13-fa9d29663530>\", line 96, in main\n",
      "    data_set['FRD_protein'] = FRD_protein\n",
      "NameError: name 'FRD_protein' is not defined\n"
     ]
    },
    {
     "name": "stdout",
     "output_type": "stream",
     "text": [
      "\n",
      "read file successfully!\n",
      "Successfully count protein freqency!(./data/Text/Eluc_v4.txt)\n",
      "Successfully count dom freqency!\n",
      "Successfully build data frames!\n",
      "Successfully count allocation and chain!(Eluc_v4.txt)\n"
     ]
    },
    {
     "name": "stderr",
     "output_type": "stream",
     "text": [
      "Traceback (most recent call last):\n",
      "  File \"<ipython-input-13-fa9d29663530>\", line 96, in main\n",
      "    data_set['FRD_protein'] = FRD_protein\n",
      "NameError: name 'FRD_protein' is not defined\n"
     ]
    },
    {
     "name": "stdout",
     "output_type": "stream",
     "text": [
      "\n",
      "read file successfully!\n",
      "Successfully count protein freqency!(./data/Text/X_maculatus-5.0-male.txt)\n",
      "Successfully count dom freqency!\n",
      "Successfully build data frames!\n",
      "Successfully count allocation and chain!(X_maculatus-5.0-male.txt)\n"
     ]
    },
    {
     "name": "stderr",
     "output_type": "stream",
     "text": [
      "Traceback (most recent call last):\n",
      "  File \"<ipython-input-13-fa9d29663530>\", line 96, in main\n",
      "    data_set['FRD_protein'] = FRD_protein\n",
      "NameError: name 'FRD_protein' is not defined\n"
     ]
    },
    {
     "name": "stdout",
     "output_type": "stream",
     "text": [
      "\n",
      "read file successfully!\n",
      "Successfully count protein freqency!(./data/Text/NNQGG.v01.txt)\n",
      "Successfully count dom freqency!\n",
      "Successfully build data frames!\n",
      "Successfully count allocation and chain!(NNQGG.v01.txt)\n"
     ]
    },
    {
     "name": "stderr",
     "output_type": "stream",
     "text": [
      "Traceback (most recent call last):\n",
      "  File \"<ipython-input-13-fa9d29663530>\", line 96, in main\n",
      "    data_set['FRD_protein'] = FRD_protein\n",
      "NameError: name 'FRD_protein' is not defined\n"
     ]
    },
    {
     "name": "stdout",
     "output_type": "stream",
     "text": [
      "\n",
      "read file successfully!\n",
      "Successfully count protein freqency!(./data/Text/mBalMus1.v2.txt)\n",
      "Successfully count dom freqency!\n",
      "Successfully build data frames!\n",
      "Successfully count allocation and chain!(mBalMus1.v2.txt)\n"
     ]
    },
    {
     "name": "stderr",
     "output_type": "stream",
     "text": [
      "Traceback (most recent call last):\n",
      "  File \"<ipython-input-13-fa9d29663530>\", line 96, in main\n",
      "    data_set['FRD_protein'] = FRD_protein\n",
      "NameError: name 'FRD_protein' is not defined\n"
     ]
    },
    {
     "name": "stdout",
     "output_type": "stream",
     "text": [
      "\n",
      "read file successfully!\n",
      "Successfully count protein freqency!(./data/Text/Callorhinchus_milii-6.1.3.txt)\n",
      "Successfully count dom freqency!\n",
      "Successfully build data frames!\n",
      "Successfully count allocation and chain!(Callorhinchus_milii-6.1.3.txt)\n"
     ]
    },
    {
     "name": "stderr",
     "output_type": "stream",
     "text": [
      "Traceback (most recent call last):\n",
      "  File \"<ipython-input-13-fa9d29663530>\", line 96, in main\n",
      "    data_set['FRD_protein'] = FRD_protein\n",
      "NameError: name 'FRD_protein' is not defined\n"
     ]
    },
    {
     "name": "stdout",
     "output_type": "stream",
     "text": [
      "\n",
      "read file successfully!\n",
      "Successfully count protein freqency!(./data/Text/fSalTru1.1.txt)\n",
      "Successfully count dom freqency!\n",
      "Successfully build data frames!\n",
      "Successfully count allocation and chain!(fSalTru1.1.txt)\n"
     ]
    },
    {
     "name": "stderr",
     "output_type": "stream",
     "text": [
      "Traceback (most recent call last):\n",
      "  File \"<ipython-input-13-fa9d29663530>\", line 96, in main\n",
      "    data_set['FRD_protein'] = FRD_protein\n",
      "NameError: name 'FRD_protein' is not defined\n"
     ]
    },
    {
     "name": "stdout",
     "output_type": "stream",
     "text": [
      "\n",
      "read file successfully!\n",
      "Successfully count protein freqency!(./data/Text/bAquChr1.2.txt)\n",
      "Successfully count dom freqency!\n",
      "Successfully build data frames!\n",
      "Successfully count allocation and chain!(bAquChr1.2.txt)\n"
     ]
    },
    {
     "name": "stderr",
     "output_type": "stream",
     "text": [
      "Traceback (most recent call last):\n",
      "  File \"<ipython-input-13-fa9d29663530>\", line 96, in main\n",
      "    data_set['FRD_protein'] = FRD_protein\n",
      "NameError: name 'FRD_protein' is not defined\n"
     ]
    },
    {
     "name": "stdout",
     "output_type": "stream",
     "text": [
      "\n",
      "read file successfully!\n",
      "Successfully count protein freqency!(./data/Text/AstBur1.0.txt)\n",
      "Successfully count dom freqency!\n",
      "Successfully build data frames!\n",
      "Successfully count allocation and chain!(AstBur1.0.txt)\n"
     ]
    },
    {
     "name": "stderr",
     "output_type": "stream",
     "text": [
      "Traceback (most recent call last):\n",
      "  File \"<ipython-input-13-fa9d29663530>\", line 96, in main\n",
      "    data_set['FRD_protein'] = FRD_protein\n",
      "NameError: name 'FRD_protein' is not defined\n"
     ]
    },
    {
     "name": "stdout",
     "output_type": "stream",
     "text": [
      "\n",
      "read file successfully!\n",
      "Successfully count protein freqency!(./data/Text/Meug_1.0.txt)\n",
      "Successfully count dom freqency!\n",
      "Successfully build data frames!\n",
      "Successfully count allocation and chain!(Meug_1.0.txt)\n"
     ]
    },
    {
     "name": "stderr",
     "output_type": "stream",
     "text": [
      "Traceback (most recent call last):\n",
      "  File \"<ipython-input-13-fa9d29663530>\", line 96, in main\n",
      "    data_set['FRD_protein'] = FRD_protein\n",
      "NameError: name 'FRD_protein' is not defined\n"
     ]
    },
    {
     "name": "stdout",
     "output_type": "stream",
     "text": [
      "\n",
      "read file successfully!\n",
      "Successfully count protein freqency!(./data/Text/UrsMar_1.0.txt)\n",
      "Successfully count dom freqency!\n",
      "Successfully build data frames!\n",
      "Successfully count allocation and chain!(UrsMar_1.0.txt)\n"
     ]
    },
    {
     "name": "stderr",
     "output_type": "stream",
     "text": [
      "Traceback (most recent call last):\n",
      "  File \"<ipython-input-13-fa9d29663530>\", line 96, in main\n",
      "    data_set['FRD_protein'] = FRD_protein\n",
      "NameError: name 'FRD_protein' is not defined\n"
     ]
    },
    {
     "name": "stdout",
     "output_type": "stream",
     "text": [
      "\n",
      "read file successfully!\n",
      "Successfully count protein freqency!(./data/Text/ASM200744v2.txt)\n",
      "Successfully count dom freqency!\n",
      "Successfully build data frames!\n",
      "Successfully count allocation and chain!(ASM200744v2.txt)\n"
     ]
    },
    {
     "name": "stderr",
     "output_type": "stream",
     "text": [
      "Traceback (most recent call last):\n",
      "  File \"<ipython-input-13-fa9d29663530>\", line 96, in main\n",
      "    data_set['FRD_protein'] = FRD_protein\n",
      "NameError: name 'FRD_protein' is not defined\n"
     ]
    },
    {
     "name": "stdout",
     "output_type": "stream",
     "text": [
      "\n",
      "read file successfully!\n",
      "Successfully count protein freqency!(./data/Text/PanLeo1.0.txt)\n",
      "Successfully count dom freqency!\n",
      "Successfully build data frames!\n",
      "Successfully count allocation and chain!(PanLeo1.0.txt)\n"
     ]
    },
    {
     "name": "stderr",
     "output_type": "stream",
     "text": [
      "Traceback (most recent call last):\n",
      "  File \"<ipython-input-13-fa9d29663530>\", line 96, in main\n",
      "    data_set['FRD_protein'] = FRD_protein\n",
      "NameError: name 'FRD_protein' is not defined\n"
     ]
    },
    {
     "name": "stdout",
     "output_type": "stream",
     "text": [
      "\n",
      "read file successfully!\n",
      "Successfully count protein freqency!(./data/Text/marMar2.1.txt)\n",
      "Successfully count dom freqency!\n",
      "Successfully build data frames!\n",
      "Successfully count allocation and chain!(marMar2.1.txt)\n"
     ]
    },
    {
     "name": "stderr",
     "output_type": "stream",
     "text": [
      "Traceback (most recent call last):\n",
      "  File \"<ipython-input-13-fa9d29663530>\", line 96, in main\n",
      "    data_set['FRD_protein'] = FRD_protein\n",
      "NameError: name 'FRD_protein' is not defined\n"
     ]
    },
    {
     "name": "stdout",
     "output_type": "stream",
     "text": [
      "\n",
      "read file successfully!\n",
      "Successfully count protein freqency!(./data/Text/ASM223467v1.txt)\n",
      "Successfully count dom freqency!\n",
      "Successfully build data frames!\n",
      "Successfully count allocation and chain!(ASM223467v1.txt)\n",
      "\n",
      "The following file get error when running:\n",
      "Platyfish.txt\n",
      "SLUC_FBN_1.txt\n",
      "PKINGS_0.1.txt\n",
      "Anan_2.0.txt\n",
      "CroPor_comp1.txt\n",
      "C_variegatus-1.0.txt\n",
      "ASM283717v2.txt\n",
      "fAnaTes1.2.txt\n",
      "BallGen_V1.txt\n",
      "fMasArm1.2.txt\n",
      "Nana_v5.txt\n",
      "mSarHar1.11.txt\n",
      "IpCoco_1.2.txt\n",
      "LatCha1.txt\n",
      "Myoluc2.0.txt\n",
      "ASM331708v1.txt\n",
      "Mmur_3.0.txt\n",
      "Fundulus_heteroclitus-3.0.2.txt\n",
      "FicAlb1.5.txt\n",
      "Tarsius_syrichta-2.0.1.txt\n",
      "chicken.txt\n",
      "HLtupMer3.txt\n",
      "ASM275486v1.txt\n",
      "Bison_UMD1.0.txt\n",
      "ASM1334776v1.txt\n",
      "MosMos_v2_BIUU_UCD.txt\n",
      "Mleu.le_1.0.txt\n",
      "fSclFor1.1.txt\n",
      "CAROLI_EIJ_v1.1.txt\n",
      "PanTig1.0.txt\n",
      "fBetSpl5.2.txt\n",
      "P_latipinna-1.0.txt\n",
      "TS10Xv2-PRI.txt\n",
      "ASM334442v1.txt\n",
      "CanFam3.1.txt\n",
      "Xenopus_tropicalis_v9.1.txt\n",
      "Cebus_imitator-1.0.txt\n",
      "S.galili_v1.0.txt\n",
      "Mmul_10.txt\n",
      "Felis_catus_9.0.txt\n",
      "panpan1.1.txt\n",
      "MusPutFur1.0.txt\n",
      "MesAur1.0.txt\n",
      "ARS-UCD1.2.txt\n",
      "fTakRub1.2.txt\n",
      "EBS10Xv2-PRI.txt\n",
      "gorGor4.txt\n",
      "EquCab3.0.txt\n",
      "CAU_duck1.0.txt\n",
      "BROAD S1.txt\n",
      "Chrysemys_picta_bellii-3.0.3.txt\n",
      "CamDro2.txt\n",
      "Turkey_5.1.txt\n",
      "BosGru_v2.0.txt\n",
      "ASM69896v1.txt\n",
      "PanPar1.0.txt\n",
      "turTru1.txt\n",
      "bare-nosed_wombat_genome_assembly.txt\n",
      "HU_Pman_2.1.txt\n",
      "ASM966780v1.txt\n",
      "seabass_V1.0.txt\n",
      "OchPri2.0-Ens.txt\n",
      "M_zebra_UMD2a.txt\n",
      "common_carp_genome.txt\n",
      "pteVam1.txt\n",
      "Om_v0.7.RACA.txt\n",
      "Rrox_v1.txt\n",
      "ASM359739v1.txt\n",
      "NeoBri1.0.txt\n",
      "MUSP714.txt\n",
      "PunNye1.0.txt\n",
      "mPhoSin1.pri.txt\n",
      "ICSASG_v2.txt\n",
      "proCap1.txt\n",
      "ChiLan1.0.txt\n",
      "Ee_SOAP_WITH_SSPACE.txt\n",
      "PAHARI_EIJ_v1.1.txt\n",
      "Astyanax_mexicanus-2.0.txt\n",
      "sorAra1.txt\n",
      "Loxafr3.0.txt\n",
      "TENREC.txt\n",
      "Stegastes_partitus-1.0.2.txt\n",
      "ASM858656v1.txt\n",
      "PodMur_1.0.txt\n",
      "choHof1.txt\n",
      "SCA1.txt\n",
      "latLat_1.0.txt\n",
      "fAstCal1.2.txt\n",
      "Pan_tro_3.0.txt\n",
      "JacJac1.0.txt\n",
      "Dord_2.0.txt\n",
      "Mnem_1.0.txt\n",
      "rGopEvg1_v1.p.txt\n",
      "OryCun2.0.txt\n",
      "Nemo_v1.txt\n",
      "gadMor3.0.txt\n",
      "Sdu_1.0.txt\n",
      "Midas_v5.txt\n",
      "Pcoq_1.0.txt\n",
      "GeoFor_1.0.txt\n",
      "bTaeGut1_v1.p.txt\n",
      "Pygocentrus_nattereri-1.0.2.txt\n",
      "Prosim_1.0.txt\n",
      "Poecilia_formosa-5.1.2.txt\n",
      "ARS1.txt\n",
      "ASB_HGAPassembly_v1.txt\n",
      "Cse_v1.0.txt\n",
      "Alpaca.txt\n",
      "Sscrofa11.1.txt\n",
      "PelSin_1.0.txt\n",
      "CSAV 2.0.txt\n",
      "Sedor1.txt\n",
      "Nfu_20140520.txt\n",
      "zebrafish.txt\n",
      "fCotGob3.1.txt\n",
      "CatWag_v2_BIUU_UCD.txt\n",
      "CEY_v1.txt\n",
      "ASM164957v1.txt\n",
      "T_m_triunguis-2.0.txt\n",
      "LU_Bosgru_v3.0.txt\n",
      "Dasnov3.0.txt\n",
      "UOA_Brahman_1.txt\n",
      "fMyrMur1.1.txt\n",
      "phaCin_unsw_v4.1.txt\n",
      "fDenClu1.1.txt\n",
      "H_comes_QL1_v1.txt\n",
      "ASM311381v1.txt\n",
      "ASM336829v1.txt\n",
      "ASM169854v1.txt\n",
      "Parus_major1.1.txt\n",
      "ASM229v1.txt\n",
      "LepOcu1.txt\n",
      "VulVul2.2.txt\n",
      "ASM303372v1.txt\n",
      "ASM210954v1.txt\n",
      "mSciVul1.1.txt\n",
      "WBcel235.txt\n",
      "SAMN03320097.WGS_v1.1.txt\n",
      "ChlSab1.1.txt\n",
      "NGI_Narwhal_1.txt\n",
      "Okis_V2.txt\n",
      "SpeTri2.0.txt\n",
      "fCycLum1.pri.txt\n",
      "OtoGar3.txt\n",
      "ASM874695v1.txt\n",
      "OJAV_1.1.txt\n",
      "SaiBol1.0.txt\n",
      "Ch_v2.0.2.txt\n",
      "mouse.txt\n",
      "Eburgeri_3.2.txt\n",
      "mRhiFer1_v1.p.txt\n",
      "Otsh_v1.0.txt\n",
      "fSpaAur1.1.txt\n",
      "Guppy_female_1.0_MT.txt\n",
      "Oar_v3.1.txt\n",
      "mOrnAna1.p.v1.txt\n",
      "HetGla_female_1.0.txt\n",
      "ASM325472v1.txt\n",
      "ASM259213v1.txt\n",
      "Coturnix_japonica_2.0.txt\n",
      "vicPac1.txt\n",
      "ASM342692v1.txt\n",
      "Panu_3.0.txt\n",
      "TETRAODON 8.0.txt\n",
      "Caty_1.0.txt\n",
      "Oar_rambouillet_v1.0.txt\n",
      "AmpOce1.0.txt\n",
      "CHOK1GS_HDv1.txt\n",
      "SPRET_EiJ_v1.txt\n",
      "Nleu_3.0.txt\n",
      "O_niloticus_UMD_NMBU.txt\n",
      "ASM228892v3.txt\n",
      "Omyk_1.0.txt\n",
      "MicOch1.0.txt\n",
      "AnoCar2.0v2.txt\n",
      "fErpCal1.1.txt\n",
      "OctDeg1.0.txt\n",
      "KH.txt\n",
      "Cavpor3.0.txt\n",
      "PPYG2.txt\n",
      "eriEur1.txt\n",
      "L_crocea_2.0.txt\n",
      "Pmarinus_7.0.txt\n",
      "bStrHab1_v1.p.txt\n",
      "LIGO.txt\n",
      "Macaca_fascicularis_6.0.txt\n",
      "R64-1-1.txt\n",
      "tupBel1.txt\n",
      "Human.txt\n",
      "Eluc_v4.txt\n",
      "X_maculatus-5.0-male.txt\n",
      "NNQGG.v01.txt\n",
      "mBalMus1.v2.txt\n",
      "Callorhinchus_milii-6.1.3.txt\n",
      "fSalTru1.1.txt\n",
      "bAquChr1.2.txt\n",
      "AstBur1.0.txt\n",
      "Meug_1.0.txt\n",
      "UrsMar_1.0.txt\n",
      "ASM200744v2.txt\n",
      "PanLeo1.0.txt\n",
      "marMar2.1.txt\n",
      "ASM223467v1.txt\n"
     ]
    },
    {
     "name": "stderr",
     "output_type": "stream",
     "text": [
      "Traceback (most recent call last):\n",
      "  File \"<ipython-input-13-fa9d29663530>\", line 96, in main\n",
      "    data_set['FRD_protein'] = FRD_protein\n",
      "NameError: name 'FRD_protein' is not defined\n"
     ]
    }
   ],
   "source": [
    "main()"
   ]
  }
 ],
 "metadata": {
  "anaconda-cloud": {},
  "kernelspec": {
   "display_name": "Python 3",
   "language": "python",
   "name": "python3"
  },
  "language_info": {
   "codemirror_mode": {
    "name": "ipython",
    "version": 3
   },
   "file_extension": ".py",
   "mimetype": "text/x-python",
   "name": "python",
   "nbconvert_exporter": "python",
   "pygments_lexer": "ipython3",
   "version": "3.8.8"
  }
 },
 "nbformat": 4,
 "nbformat_minor": 1
}
