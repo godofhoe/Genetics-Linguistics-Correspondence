{
 "cells": [
  {
   "cell_type": "code",
   "execution_count": 1,
   "metadata": {},
   "outputs": [],
   "source": [
    "import numpy as np\n",
    "import matplotlib.pyplot as plt\n",
    "from Module.Curve_Fitting_MLE import *\n",
    "from scipy.optimize import minimize\n",
    "plt.style.use('classic')"
   ]
  },
  {
   "cell_type": "markdown",
   "metadata": {},
   "source": [
    "<br>\n",
    "<font size = 15>Fitting Zipf's law:</font>\n",
    "<br><br>\n",
    "The Zipf's distribution is : <br>\n",
    "\\begin{equation}P_k=Ck^{-\\alpha}\\end{equation}\n",
    "where the rank $k=[m, m+1, ..., n]$. The normalized condition gives:<br>\n",
    "\\begin{equation}1=\\sum P_k=C\\sum_{m}^{n}(\\frac{1}{k^\\alpha})\\Rightarrow C=1/H(m,n,\\alpha)\\end{equation}\n",
    "where $H(m,n,\\alpha)\\equiv \\sum_{m}^{n}\\frac{1}{k^\\alpha}=\\zeta(\\alpha, m) - \\zeta(\\alpha, n+1)$, $\\zeta(\\alpha, m)$ is Hurwitz zeta function.<br>\n",
    "\n",
    "Now give a raw data $X=[x_1,x_2,x_3...,x_N]$ where $x_i$ is the word of utterance (some words will repeat). The likelihood is:<br>\n",
    "\\begin{equation}L=\\prod_{i=1}^{N}P(x_i|\\alpha)=\\prod_{i=1}^{k}P(y_i|\\alpha)^{\\rho(y_i)}=\\prod_{i=1}^{k}\\big[\\frac{y_i^{-\\alpha}}{H(y_1,y_k,\\alpha)}\\big]^{\\rho(y_i)}\\end{equation}\n",
    "where $Y=[y_1, y_2...,y_k]$ is a ranking set of $\\bf{non-repeat}$ $X$ with frequency $\\rho(y_i)$\n",
    "\n",
    "\n",
    "The maximum likelihood estimation (MLE) requires $L$ be maximum, and then $\\ln(L)$ will also be max:<br>\n",
    "\\begin{equation}0=\\frac{\\partial\\ln{L}}{\\partial \\alpha}=-\\sum_{i=1}^{k}{\\rho(y_i)\\ln{y_i}}+\\frac{N}{H(y_1,y_k,\\alpha)}\\sum_{i=1}^{k}\\frac{\\ln{(y_i)}}{y_i^{ \\alpha}}\\end{equation}\n",
    "\n",
    "However we can't solve $\\alpha$ exactly in this form. Instead, we use the minimize function in scipy:\n",
    "\\begin{equation}max(\\ln L(\\alpha))=min(-1*\\ln L(\\alpha))\\end{equation}\n",
    "\\begin{equation}\\Rightarrow \\alpha = \\alpha_1, C=1/H(y_1,y_k,\\alpha_1)\\end{equation}\n",
    "\n",
    "\n",
    "Ps. This result is better than Eq.(38) in ref 1, where use $\\zeta (y_1, \\alpha)$ instead of $H(y_1,y_k,\\alpha_1)$\n",
    "\n",
    "<ref>Reference: <br>\n",
    "1. https://arxiv.org/pdf/cond-mat/0412004.pdf Appendix.B\n",
    "2. scipy.minimize: https://www.youtube.com/watch?v=cXHvC_FGx24\n",
    "3. scipy minimize function with parameters: https://stackoverflow.com/questions/43017792/minimize-function-with-parameters\n"
   ]
  },
  {
   "cell_type": "markdown",
   "metadata": {},
   "source": [
    "<br>\n",
    "<font size = 15>What is goodness of fitting in MLE ?</font>\n",
    "<br><br>\n",
    "If we KNOW the distribution of experiment data (the error distribution) is normal distribution, the likelihood of getting the best fitting function can be written down as :\n",
    "\\begin{equation}L=\\prod_{i=1}^{k}\\frac{1}{\\sqrt{2\\pi}\\sigma_i}e^{-(y_i - g(x_i))^2/(2\\sigma_i^2)}\\end{equation}\n",
    "\n",
    "\n",
    "This likelihood is used to maximize the probability of finding the theortical vaule (fitting model $g(x_i)$) close to experiment value ($y_i$). When we apply this $L$ with MLE, we get the condition the $L=max(L)$ is :\n",
    "\\begin{equation}\\chi^2 =\\sum_{i=1}^{k}(y_i - g(x_i))^2/(2\\sigma_i^2)\\end{equation}\n",
    "should be minimized.<br>\n",
    "\n",
    "This will lead to the result in OLS(ordinary least square). However we don't know the distribution of our data, even the error bars. So we must fixed this standard of good of fitting here. The generalized case of fitting should use the likelihood we mentioned before:\n",
    "\\begin{equation}L=\\prod_{i=1}^{N}g(x_i|\\alpha)=\\prod_{i=1}^{k}g(y_i|\\alpha)^{\\rho(y_i)}\\end{equation}\n",
    "\n",
    "......(to be continue)\n",
    "\n",
    "\n",
    "<ref>Reference: <br>\n",
    "1. https://arxiv.org/pdf/1505.02016.pdf Appendix.C\n",
    "2. http://www3.stat.sinica.edu.tw/statistica/oldpdf/a16n39.pdf\n",
    "3. https://arxiv.org/vc/cond-mat/papers/0402/0402322v1.pdf\n",
    "4. https://arxiv.org/pdf/cond-mat/0402322.pdf\n",
    "5. https://cran.r-project.org/web/packages/zipfR/zipfR.pdf\n"
   ]
  },
  {
   "cell_type": "code",
   "execution_count": 9,
   "metadata": {
    "scrolled": false
   },
   "outputs": [
    {
     "name": "stdout",
     "output_type": "stream",
     "text": [
      "the best exponent of Zipf is 0.742019, C is 0.263698\n",
      "the best exponent of Zipf-Mandelbrot is 2.026531, C is 9.322194, a is 5.116087\n",
      "model 0 is Zipf, model 1 is Zipf-Mandelbrot\n",
      "the best fit is model 1\n"
     ]
    },
    {
     "data": {
      "image/png": "[encoded data removed]",
      "text/plain": [
       "<Figure size 432x288 with 1 Axes>"
      ]
     },
     "metadata": {
      "needs_background": "light"
     },
     "output_type": "display_data"
    }
   ],
   "source": [
    "def main():\n",
    "    '''\n",
    "    Comparing two model: Zipf and Zipf_Mandelbrot, then we can decide the best fit by their aicc value.\n",
    "    '''\n",
    "    #raw data\n",
    "    y = ([1,2,3,4,5,6,7,8,9,10], \n",
    "         [0.237764055,0.174683796,0.133742281,0.105672913,0.08559506,0.070739719\n",
    "          ,0.059441014,0.050647964,0.043670949,0.038042249])\n",
    "\n",
    "    Y = Two_to_One(y)\n",
    "    \n",
    "    #Estimate exponent. This action can make reduce the error of initial value guess.\n",
    "    freq_M, freq_m = max(y[1]), min(y[1])\n",
    "    rank_M, rank_m = max(y[0]), min(y[0])\n",
    "    s_0 = np.log(freq_M/freq_m)/np.log(rank_M/rank_m)\n",
    "    \n",
    "    #fit Zipf: f(x)=C_Z/x^s_Z\n",
    "    res_Z = minimize(L_Zipf, s_0, Y, method = 'SLSQP')\n",
    "    s_Z = res_Z['x']\n",
    "    t_Z = (int(min(y[0])), int(max(y[0])), s_Z)\n",
    "    C_Z = 1 / incomplete_harmonic(t_Z)\n",
    "    print('the best exponent of Zipf is %f, C is %f' % (s_Z, C_Z))\n",
    "    \n",
    "    #fit Zipf-Mandelbrot: g(x,a)=C_ZM/(x+a_ZM)^s_ZM\n",
    "    res_ZM = minimize(L_Zipf_Mandelbrot, (s_0, 0), Y, method = 'CG')\n",
    "    s_ZM = res_ZM['x'][0]\n",
    "    a_ZM = res_ZM['x'][1]\n",
    "    t_ZM = [int(min(y[0])), int(max(y[0])), s_ZM]\n",
    "    C_ZM = 1 / incomplete_shifted_harmonic(t_ZM, a_ZM)\n",
    "    print('the best exponent of Zipf-Mandelbrot is %f, C is %f, a is %f' % (s_ZM, C_ZM, a_ZM))\n",
    "\n",
    "    #comparing their aic\n",
    "    L = [L_Zipf(s_Z, Y), L_Zipf_Mandelbrot([s_ZM, a_ZM], Y)]\n",
    "    k = [1,2]\n",
    "    N = sum(y[1])\n",
    "    print('model 0 is Zipf, model 1 is Zipf-Mandelbrot')\n",
    "    aicc_index, aicc = AICc_choose(L, k, N)\n",
    "    print('the best fit is model %d' % aicc_index)\n",
    "    \n",
    "    #draw raw data\n",
    "    p = [i / N for i in y[1]]\n",
    "    plt.plot(y[0], p, 'o')\n",
    "    xdata = np.linspace(min(y[0]), max(y[0]), num = (max(y[0]) - min(y[0]))*10)\n",
    "    \n",
    "    #drawing fitting cruve\n",
    "    theo_Z = Zipf_law(xdata, s_Z, C_Z)    \n",
    "    plt.plot(xdata, theo_Z, 'g-', label = 'Zipf')\n",
    "    \n",
    "    theo_ZM = Zipf_Mandelbrot(xdata, s_ZM, C_ZM, a_ZM)\n",
    "    plt.plot(xdata, theo_ZM, 'r.', label = 'Zipf-Mandelbrot')\n",
    "    \n",
    "    #show equation\n",
    "    plt.text(1.2, 0.05,'$f(x)=%.2fx^{-%.2f}$' % (C_Z, s_Z), fontsize=12)\n",
    "    plt.text(1.2, 0.03,'$g(x)=%.2f(x+%.2f)^{-%.2f}$' % (C_ZM, a_ZM, s_ZM), fontsize=12)\n",
    "    \n",
    "    plt.legend(loc = 'best')\n",
    "    plt.yscale('log')\n",
    "    plt.xscale('log')\n",
    "    plt.ylabel('prob-density')\n",
    "    plt.xlabel('rank')\n",
    "    plt.gcf().subplots_adjust(left = 0.17, bottom = 0.17)\n",
    "    plt.show()\n",
    "    \n",
    "if __name__ == '__main__':\n",
    "    main()"
   ]
  },
  {
   "cell_type": "code",
   "execution_count": null,
   "metadata": {},
   "outputs": [],
   "source": []
  }
 ],
 "metadata": {
  "anaconda-cloud": {},
  "kernelspec": {
   "display_name": "Python 3",
   "language": "python",
   "name": "python3"
  },
  "language_info": {
   "codemirror_mode": {
    "name": "ipython",
    "version": 3
   },
   "file_extension": ".py",
   "mimetype": "text/x-python",
   "name": "python",
   "nbconvert_exporter": "python",
   "pygments_lexer": "ipython3",
   "version": "3.7.4"
  }
 },
 "nbformat": 4,
 "nbformat_minor": 1
}
